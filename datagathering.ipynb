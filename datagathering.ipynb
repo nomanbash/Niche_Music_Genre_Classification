{
 "cells": [
  {
   "cell_type": "code",
   "execution_count": 2,
   "metadata": {},
   "outputs": [],
   "source": [
    "import spotipy\n",
    "import pandas as pd\n",
    "from spotipy.oauth2 import SpotifyClientCredentials\n",
    "client_id = \"6f8bb3e64c2944d586037b9907043601\"\n",
    "client_secret = \"81f5f44660364831be8d9118ccb51785\"\n",
    "client_credentials_manager = SpotifyClientCredentials(client_id=client_id, client_secret=client_secret)\n",
    "sp = spotipy.Spotify(client_credentials_manager=client_credentials_manager)"
   ]
  },
  {
   "cell_type": "code",
   "execution_count": 3,
   "metadata": {},
   "outputs": [],
   "source": [
    "def album_songs(uri):\n",
    "    album = uri \n",
    "    spotify_albums[album] = {}\n",
    "    #Create keys-values of empty lists inside nested dictionary for album\n",
    "    spotify_albums[album]['album'] = [] \n",
    "    spotify_albums[album]['track_number'] = []\n",
    "    spotify_albums[album]['id'] = []\n",
    "    spotify_albums[album]['name'] = []\n",
    "    spotify_albums[album]['uri'] = []\n",
    "    #pull data on album tracks\n",
    "    tracks = sp.album_tracks(album) \n",
    "    for n in range(len(tracks['items'])): \n",
    "        spotify_albums[album]['album'].append(artist_album_names[album_count]) \n",
    "        spotify_albums[album]['track_number'].append(tracks['items'][n]['track_number'])\n",
    "        spotify_albums[album]['id'].append(tracks['items'][n]['id'])\n",
    "        spotify_albums[album]['name'].append(tracks['items'][n]['name'])\n",
    "        spotify_albums[album]['uri'].append(tracks['items'][n]['uri'])\n",
    "\n",
    "def audio_features(album):\n",
    "    #Add new key-values to store audio features\n",
    "    spotify_albums[album]['acousticness'] = []\n",
    "    spotify_albums[album]['danceability'] = []\n",
    "    spotify_albums[album]['energy'] = []\n",
    "    spotify_albums[album]['instrumentalness'] = []\n",
    "    spotify_albums[album]['liveness'] = []\n",
    "    spotify_albums[album]['loudness'] = []\n",
    "    spotify_albums[album]['speechiness'] = []\n",
    "    spotify_albums[album]['tempo'] = []\n",
    "    spotify_albums[album]['valence'] = []\n",
    "    spotify_albums[album]['popularity'] = []\n",
    "    \n",
    "    track_count = 0\n",
    "    for track in spotify_albums[album]['uri']:\n",
    "        #pull audio features per track\n",
    "        features = sp.audio_features(track)\n",
    "        \n",
    "        #Append to relevant key-value\n",
    "        spotify_albums[album]['acousticness'].append(features[0]['acousticness'])\n",
    "        spotify_albums[album]['danceability'].append(features[0]['danceability'])\n",
    "        spotify_albums[album]['energy'].append(features[0]['energy'])\n",
    "        spotify_albums[album]['instrumentalness'].append(features[0]['instrumentalness'])\n",
    "        spotify_albums[album]['liveness'].append(features[0]['liveness'])\n",
    "        spotify_albums[album]['loudness'].append(features[0]['loudness'])\n",
    "        spotify_albums[album]['speechiness'].append(features[0]['speechiness'])\n",
    "        spotify_albums[album]['tempo'].append(features[0]['tempo'])\n",
    "        spotify_albums[album]['valence'].append(features[0]['valence'])\n",
    "        #popularity is stored elsewhere\n",
    "        pop = sp.track(track)\n",
    "        spotify_albums[album]['popularity'].append(pop['popularity'])\n",
    "        track_count+=1"
   ]
  },
  {
   "cell_type": "code",
   "execution_count": 4,
   "metadata": {},
   "outputs": [
    {
     "name": "stdout",
     "output_type": "stream",
     "text": [
      "5 playlists completed\n",
      "Loop #: 5\n",
      "Elapsed Time: 16.006316423416138 seconds\n",
      "10 playlists completed\n",
      "Loop #: 10\n",
      "Elapsed Time: 29.314232349395752 seconds\n",
      "15 playlists completed\n",
      "Loop #: 15\n",
      "Elapsed Time: 43.69741201400757 seconds\n",
      "20 playlists completed\n",
      "Loop #: 20\n",
      "Elapsed Time: 54.987908363342285 seconds\n"
     ]
    },
    {
     "name": "stderr",
     "output_type": "stream",
     "text": [
      "C:\\Users\\Noman\\AppData\\Local\\Temp\\ipykernel_15184\\3220944448.py:69: FutureWarning: The frame.append method is deprecated and will be removed from pandas in a future version. Use pandas.concat instead.\n",
      "  final_df = final_df.append(dataframe)\n"
     ]
    },
    {
     "name": "stdout",
     "output_type": "stream",
     "text": [
      "5 playlists completed\n",
      "Loop #: 5\n",
      "Elapsed Time: 10.475309133529663 seconds\n",
      "10 playlists completed\n",
      "Loop #: 10\n",
      "Elapsed Time: 19.687623262405396 seconds\n",
      "15 playlists completed\n",
      "Loop #: 15\n",
      "Elapsed Time: 46.87960481643677 seconds\n",
      "20 playlists completed\n",
      "Loop #: 20\n",
      "Elapsed Time: 73.11091899871826 seconds\n"
     ]
    },
    {
     "name": "stderr",
     "output_type": "stream",
     "text": [
      "C:\\Users\\Noman\\AppData\\Local\\Temp\\ipykernel_15184\\3220944448.py:69: FutureWarning: The frame.append method is deprecated and will be removed from pandas in a future version. Use pandas.concat instead.\n",
      "  final_df = final_df.append(dataframe)\n",
      "C:\\Users\\Noman\\AppData\\Local\\Temp\\ipykernel_15184\\3220944448.py:69: FutureWarning: The frame.append method is deprecated and will be removed from pandas in a future version. Use pandas.concat instead.\n",
      "  final_df = final_df.append(dataframe)\n"
     ]
    },
    {
     "name": "stdout",
     "output_type": "stream",
     "text": [
      "5 playlists completed\n",
      "Loop #: 5\n",
      "Elapsed Time: 19.242437601089478 seconds\n",
      "10 playlists completed\n",
      "Loop #: 10\n",
      "Elapsed Time: 43.50836801528931 seconds\n",
      "15 playlists completed\n",
      "Loop #: 15\n",
      "Elapsed Time: 60.162999391555786 seconds\n"
     ]
    },
    {
     "name": "stderr",
     "output_type": "stream",
     "text": [
      "C:\\Users\\Noman\\AppData\\Local\\Temp\\ipykernel_15184\\3220944448.py:69: FutureWarning: The frame.append method is deprecated and will be removed from pandas in a future version. Use pandas.concat instead.\n",
      "  final_df = final_df.append(dataframe)\n"
     ]
    },
    {
     "name": "stdout",
     "output_type": "stream",
     "text": [
      "5 playlists completed\n",
      "Loop #: 5\n",
      "Elapsed Time: 23.342028856277466 seconds\n",
      "10 playlists completed\n",
      "Loop #: 10\n",
      "Elapsed Time: 47.293792724609375 seconds\n",
      "15 playlists completed\n",
      "Loop #: 15\n",
      "Elapsed Time: 76.7389612197876 seconds\n",
      "20 playlists completed\n",
      "Loop #: 20\n",
      "Elapsed Time: 101.2977933883667 seconds\n"
     ]
    },
    {
     "name": "stderr",
     "output_type": "stream",
     "text": [
      "C:\\Users\\Noman\\AppData\\Local\\Temp\\ipykernel_15184\\3220944448.py:69: FutureWarning: The frame.append method is deprecated and will be removed from pandas in a future version. Use pandas.concat instead.\n",
      "  final_df = final_df.append(dataframe)\n"
     ]
    },
    {
     "name": "stdout",
     "output_type": "stream",
     "text": [
      "5 playlists completed\n",
      "Loop #: 5\n",
      "Elapsed Time: 21.62386131286621 seconds\n",
      "10 playlists completed\n",
      "Loop #: 10\n",
      "Elapsed Time: 41.043909788131714 seconds\n"
     ]
    },
    {
     "name": "stderr",
     "output_type": "stream",
     "text": [
      "C:\\Users\\Noman\\AppData\\Local\\Temp\\ipykernel_15184\\3220944448.py:69: FutureWarning: The frame.append method is deprecated and will be removed from pandas in a future version. Use pandas.concat instead.\n",
      "  final_df = final_df.append(dataframe)\n"
     ]
    },
    {
     "name": "stdout",
     "output_type": "stream",
     "text": [
      "5 playlists completed\n",
      "Loop #: 5\n",
      "Elapsed Time: 26.30845808982849 seconds\n",
      "10 playlists completed\n",
      "Loop #: 10\n",
      "Elapsed Time: 46.076120138168335 seconds\n",
      "15 playlists completed\n",
      "Loop #: 15\n",
      "Elapsed Time: 64.14825081825256 seconds\n",
      "20 playlists completed\n",
      "Loop #: 20\n",
      "Elapsed Time: 92.94428277015686 seconds\n"
     ]
    },
    {
     "name": "stderr",
     "output_type": "stream",
     "text": [
      "C:\\Users\\Noman\\AppData\\Local\\Temp\\ipykernel_15184\\3220944448.py:69: FutureWarning: The frame.append method is deprecated and will be removed from pandas in a future version. Use pandas.concat instead.\n",
      "  final_df = final_df.append(dataframe)\n"
     ]
    },
    {
     "ename": "TypeError",
     "evalue": "'NoneType' object is not subscriptable",
     "output_type": "error",
     "traceback": [
      "\u001b[1;31m---------------------------------------------------------------------------\u001b[0m",
      "\u001b[1;31mTypeError\u001b[0m                                 Traceback (most recent call last)",
      "\u001b[1;32me:\\Noman\\Documents\\Actual Documents\\University\\Master in Business Analytics\\Semester 2 - 20220221 to 20220707\\Advanced Data Analytics\\Projects\\datagathering.ipynb Cell 3'\u001b[0m in \u001b[0;36m<cell line: 8>\u001b[1;34m()\u001b[0m\n\u001b[0;32m     <a href='vscode-notebook-cell:/e%3A/Noman/Documents/Actual%20Documents/University/Master%20in%20Business%20Analytics/Semester%202%20-%2020220221%20to%2020220707/Advanced%20Data%20Analytics/Projects/datagathering.ipynb#ch0000002?line=33'>34</a>\u001b[0m request_count \u001b[39m=\u001b[39m \u001b[39m0\u001b[39m\n\u001b[0;32m     <a href='vscode-notebook-cell:/e%3A/Noman/Documents/Actual%20Documents/University/Master%20in%20Business%20Analytics/Semester%202%20-%2020220221%20to%2020220707/Advanced%20Data%20Analytics/Projects/datagathering.ipynb#ch0000002?line=34'>35</a>\u001b[0m \u001b[39mfor\u001b[39;00m i \u001b[39min\u001b[39;00m spotify_albums:\n\u001b[1;32m---> <a href='vscode-notebook-cell:/e%3A/Noman/Documents/Actual%20Documents/University/Master%20in%20Business%20Analytics/Semester%202%20-%2020220221%20to%2020220707/Advanced%20Data%20Analytics/Projects/datagathering.ipynb#ch0000002?line=35'>36</a>\u001b[0m     audio_features(i)\n\u001b[0;32m     <a href='vscode-notebook-cell:/e%3A/Noman/Documents/Actual%20Documents/University/Master%20in%20Business%20Analytics/Semester%202%20-%2020220221%20to%2020220707/Advanced%20Data%20Analytics/Projects/datagathering.ipynb#ch0000002?line=36'>37</a>\u001b[0m     request_count\u001b[39m+\u001b[39m\u001b[39m=\u001b[39m\u001b[39m1\u001b[39m\n\u001b[0;32m     <a href='vscode-notebook-cell:/e%3A/Noman/Documents/Actual%20Documents/University/Master%20in%20Business%20Analytics/Semester%202%20-%2020220221%20to%2020220707/Advanced%20Data%20Analytics/Projects/datagathering.ipynb#ch0000002?line=37'>38</a>\u001b[0m     \u001b[39mif\u001b[39;00m request_count \u001b[39m%\u001b[39m \u001b[39m5\u001b[39m \u001b[39m==\u001b[39m \u001b[39m0\u001b[39m:\n",
      "\u001b[1;32me:\\Noman\\Documents\\Actual Documents\\University\\Master in Business Analytics\\Semester 2 - 20220221 to 20220707\\Advanced Data Analytics\\Projects\\datagathering.ipynb Cell 2'\u001b[0m in \u001b[0;36maudio_features\u001b[1;34m(album)\u001b[0m\n\u001b[0;32m     <a href='vscode-notebook-cell:/e%3A/Noman/Documents/Actual%20Documents/University/Master%20in%20Business%20Analytics/Semester%202%20-%2020220221%20to%2020220707/Advanced%20Data%20Analytics/Projects/datagathering.ipynb#ch0000001?line=34'>35</a>\u001b[0m features \u001b[39m=\u001b[39m sp\u001b[39m.\u001b[39maudio_features(track)\n\u001b[0;32m     <a href='vscode-notebook-cell:/e%3A/Noman/Documents/Actual%20Documents/University/Master%20in%20Business%20Analytics/Semester%202%20-%2020220221%20to%2020220707/Advanced%20Data%20Analytics/Projects/datagathering.ipynb#ch0000001?line=36'>37</a>\u001b[0m \u001b[39m#Append to relevant key-value\u001b[39;00m\n\u001b[1;32m---> <a href='vscode-notebook-cell:/e%3A/Noman/Documents/Actual%20Documents/University/Master%20in%20Business%20Analytics/Semester%202%20-%2020220221%20to%2020220707/Advanced%20Data%20Analytics/Projects/datagathering.ipynb#ch0000001?line=37'>38</a>\u001b[0m spotify_albums[album][\u001b[39m'\u001b[39m\u001b[39macousticness\u001b[39m\u001b[39m'\u001b[39m]\u001b[39m.\u001b[39mappend(features[\u001b[39m0\u001b[39;49m][\u001b[39m'\u001b[39;49m\u001b[39macousticness\u001b[39;49m\u001b[39m'\u001b[39;49m])\n\u001b[0;32m     <a href='vscode-notebook-cell:/e%3A/Noman/Documents/Actual%20Documents/University/Master%20in%20Business%20Analytics/Semester%202%20-%2020220221%20to%2020220707/Advanced%20Data%20Analytics/Projects/datagathering.ipynb#ch0000001?line=38'>39</a>\u001b[0m spotify_albums[album][\u001b[39m'\u001b[39m\u001b[39mdanceability\u001b[39m\u001b[39m'\u001b[39m]\u001b[39m.\u001b[39mappend(features[\u001b[39m0\u001b[39m][\u001b[39m'\u001b[39m\u001b[39mdanceability\u001b[39m\u001b[39m'\u001b[39m])\n\u001b[0;32m     <a href='vscode-notebook-cell:/e%3A/Noman/Documents/Actual%20Documents/University/Master%20in%20Business%20Analytics/Semester%202%20-%2020220221%20to%2020220707/Advanced%20Data%20Analytics/Projects/datagathering.ipynb#ch0000001?line=39'>40</a>\u001b[0m spotify_albums[album][\u001b[39m'\u001b[39m\u001b[39menergy\u001b[39m\u001b[39m'\u001b[39m]\u001b[39m.\u001b[39mappend(features[\u001b[39m0\u001b[39m][\u001b[39m'\u001b[39m\u001b[39menergy\u001b[39m\u001b[39m'\u001b[39m])\n",
      "\u001b[1;31mTypeError\u001b[0m: 'NoneType' object is not subscriptable"
     ]
    }
   ],
   "source": [
    "genres = {'Qawwali': ['Nusrat Fateh Ali Khan', 'Abida Parveen', 'Sabri Brothers'], 'Ghazal': ['Mehdi Hassan', 'Jagjit Singh', 'Noor Jehan'], 'Sindhi': ['Allan Faqir', 'Zarina Baloch', 'Sanam Marvi'],\n",
    "            'Pop': ['Ed Sheeran', 'Taylor Swift', 'Michael Jackson'], 'Rock': ['David Bowie', 'Freddie Mercury', 'Dave Grohl'], 'EDM': ['Skrillex', 'Avicci', 'David Guetta'],\n",
    "            'Jazz': ['Louis Armstrong', 'Miles Davis', 'Billie Holiday'], 'Classical': ['Wolfgang Amadeus Mozart', 'Ludwig van Beethoven', 'Frederic Chopin'], 'Blues': ['B.B. King', 'Muddy Waters', 'Robert Johnson'],\n",
    "            'Hip-Hop': ['Eminem', 'Jay-Z', 'Tupac Shakur']}\n",
    "\n",
    "final_df = pd.DataFrame()\n",
    "\n",
    "for v in genres:\n",
    "    result = sp.search(genres[v]) \n",
    "    result['tracks']['items'][1]['artists']\n",
    "    \n",
    "    #Extract Artist's url\n",
    "    artists_uris = result['tracks']['items'][0]['artists'][0]['uri']\n",
    "    #Pull all of the artist's albums\n",
    "    artist_albums = sp.artist_albums(artists_uris, album_type='album')\n",
    "    #Store artist's albums' names' and uris in separate lists\n",
    "    artist_album_names = []\n",
    "    artist_album_uris = []\n",
    "    for i in range(len(artist_albums['items'])):\n",
    "        artist_album_names.append(artist_albums['items'][i]['name'])\n",
    "        artist_album_uris.append(artist_albums['items'][i]['uri'])\n",
    "        \n",
    "    spotify_albums = {}\n",
    "    album_count = 0\n",
    "    for i in artist_album_uris: #each album\n",
    "        album_songs(i)\n",
    "        album_count+=1 #Updates album count once all tracks have been added\n",
    "\n",
    "    import time\n",
    "    import numpy as np\n",
    "    sleep_min = 2\n",
    "    sleep_max = 5\n",
    "    start_time = time.time()\n",
    "    request_count = 0\n",
    "    for i in spotify_albums:\n",
    "        audio_features(i)\n",
    "        request_count+=1\n",
    "        if request_count % 5 == 0:\n",
    "            print(str(request_count) + \" playlists completed\")\n",
    "            time.sleep(np.random.uniform(sleep_min, sleep_max))\n",
    "            print('Loop #: {}'.format(request_count))\n",
    "            print('Elapsed Time: {} seconds'.format(time.time() - start_time))\n",
    "\n",
    "    dic_df = {}\n",
    "    dic_df['album'] = []\n",
    "    dic_df['track_number'] = []\n",
    "    dic_df['id'] = []\n",
    "    dic_df['name'] = []\n",
    "    dic_df['uri'] = []\n",
    "    dic_df['acousticness'] = []\n",
    "    dic_df['danceability'] = []\n",
    "    dic_df['energy'] = []\n",
    "    dic_df['instrumentalness'] = []\n",
    "    dic_df['liveness'] = []\n",
    "    dic_df['loudness'] = []\n",
    "    dic_df['speechiness'] = []\n",
    "    dic_df['tempo'] = []\n",
    "    dic_df['valence'] = []\n",
    "    dic_df['popularity'] = []\n",
    "    for album in spotify_albums: \n",
    "        for feature in spotify_albums[album]:\n",
    "            dic_df[feature].extend(spotify_albums[album][feature])\n",
    "            \n",
    "    len(dic_df['album'])\n",
    "\n",
    "    dataframe = pd.DataFrame.from_dict(dic_df)\n",
    "    dataframe['Genre'] = v\n",
    "\n",
    "    final_df = final_df.append(dataframe)"
   ]
  },
  {
   "cell_type": "code",
   "execution_count": 7,
   "metadata": {},
   "outputs": [],
   "source": [
    "final_df.to_csv('Spotify_music.csv')"
   ]
  },
  {
   "cell_type": "code",
   "execution_count": 5,
   "metadata": {},
   "outputs": [
    {
     "data": {
      "text/plain": [
       "Rock       490\n",
       "Jazz       432\n",
       "Ghazal     348\n",
       "Pop        299\n",
       "Qawwali    235\n",
       "EDM        232\n",
       "Sindhi      24\n",
       "Name: Genre, dtype: int64"
      ]
     },
     "execution_count": 5,
     "metadata": {},
     "output_type": "execute_result"
    }
   ],
   "source": [
    "final_df['Genre'].value_counts()"
   ]
  }
 ],
 "metadata": {
  "interpreter": {
   "hash": "d6ab9c43d0ffc6a876efc8f7abb63dfedf6720c760e248878e2dbeb06a287133"
  },
  "kernelspec": {
   "display_name": "Python 3.10.2 64-bit",
   "language": "python",
   "name": "python3"
  },
  "language_info": {
   "codemirror_mode": {
    "name": "ipython",
    "version": 3
   },
   "file_extension": ".py",
   "mimetype": "text/x-python",
   "name": "python",
   "nbconvert_exporter": "python",
   "pygments_lexer": "ipython3",
   "version": "3.10.2"
  },
  "orig_nbformat": 4
 },
 "nbformat": 4,
 "nbformat_minor": 2
}
