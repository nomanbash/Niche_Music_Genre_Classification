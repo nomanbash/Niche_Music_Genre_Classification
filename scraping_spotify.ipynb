{
 "cells": [
  {
   "cell_type": "code",
   "execution_count": 3,
   "metadata": {},
   "outputs": [],
   "source": [
    "import spotipy\n",
    "import pandas as pd\n",
    "from spotipy.oauth2 import SpotifyClientCredentials\n",
    "import time\n",
    "import random\n",
    "import requests\n",
    "client_id = \"6f8bb3e64c2944d586037b9907043601\"\n",
    "client_secret = \"81f5f44660364831be8d9118ccb51785\"\n",
    "client_credentials_manager = SpotifyClientCredentials(client_id=client_id, client_secret=client_secret)\n",
    "sp = spotipy.Spotify(client_credentials_manager=client_credentials_manager)"
   ]
  },
  {
   "cell_type": "code",
   "execution_count": 40,
   "metadata": {},
   "outputs": [
    {
     "data": {
      "text/html": [
       "<div>\n",
       "<style scoped>\n",
       "    .dataframe tbody tr th:only-of-type {\n",
       "        vertical-align: middle;\n",
       "    }\n",
       "\n",
       "    .dataframe tbody tr th {\n",
       "        vertical-align: top;\n",
       "    }\n",
       "\n",
       "    .dataframe thead th {\n",
       "        text-align: right;\n",
       "    }\n",
       "</style>\n",
       "<table border=\"1\" class=\"dataframe\">\n",
       "  <thead>\n",
       "    <tr style=\"text-align: right;\">\n",
       "      <th></th>\n",
       "      <th>Singers</th>\n",
       "      <th>Genre</th>\n",
       "    </tr>\n",
       "  </thead>\n",
       "  <tbody>\n",
       "    <tr>\n",
       "      <th>0</th>\n",
       "      <td>Nusrat Fateh Ali Khan</td>\n",
       "      <td>Qawwali</td>\n",
       "    </tr>\n",
       "    <tr>\n",
       "      <th>1</th>\n",
       "      <td>Fateh Ali Khan</td>\n",
       "      <td>Qawwali</td>\n",
       "    </tr>\n",
       "    <tr>\n",
       "      <th>2</th>\n",
       "      <td>Sabri Brothers</td>\n",
       "      <td>Qawwali</td>\n",
       "    </tr>\n",
       "    <tr>\n",
       "      <th>3</th>\n",
       "      <td>Mohammad Rafi</td>\n",
       "      <td>Qawwali</td>\n",
       "    </tr>\n",
       "    <tr>\n",
       "      <th>4</th>\n",
       "      <td>Aziz Mian</td>\n",
       "      <td>Qawwali</td>\n",
       "    </tr>\n",
       "    <tr>\n",
       "      <th>...</th>\n",
       "      <td>...</td>\n",
       "      <td>...</td>\n",
       "    </tr>\n",
       "    <tr>\n",
       "      <th>85</th>\n",
       "      <td>Lil Baby</td>\n",
       "      <td>Hip-Hop</td>\n",
       "    </tr>\n",
       "    <tr>\n",
       "      <th>86</th>\n",
       "      <td>Lil Wayne</td>\n",
       "      <td>Hip-Hop</td>\n",
       "    </tr>\n",
       "    <tr>\n",
       "      <th>87</th>\n",
       "      <td>DJ Khaled</td>\n",
       "      <td>Hip-Hop</td>\n",
       "    </tr>\n",
       "    <tr>\n",
       "      <th>88</th>\n",
       "      <td>Pitbull</td>\n",
       "      <td>Hip-Hop</td>\n",
       "    </tr>\n",
       "    <tr>\n",
       "      <th>89</th>\n",
       "      <td>Ludacris</td>\n",
       "      <td>Hip-Hop</td>\n",
       "    </tr>\n",
       "  </tbody>\n",
       "</table>\n",
       "<p>90 rows × 2 columns</p>\n",
       "</div>"
      ],
      "text/plain": [
       "                  Singers    Genre\n",
       "0   Nusrat Fateh Ali Khan  Qawwali\n",
       "1          Fateh Ali Khan  Qawwali\n",
       "2          Sabri Brothers  Qawwali\n",
       "3           Mohammad Rafi  Qawwali\n",
       "4               Aziz Mian  Qawwali\n",
       "..                    ...      ...\n",
       "85               Lil Baby  Hip-Hop\n",
       "86              Lil Wayne  Hip-Hop\n",
       "87              DJ Khaled  Hip-Hop\n",
       "88                Pitbull  Hip-Hop\n",
       "89               Ludacris  Hip-Hop\n",
       "\n",
       "[90 rows x 2 columns]"
      ]
     },
     "execution_count": 40,
     "metadata": {},
     "output_type": "execute_result"
    }
   ],
   "source": [
    "singers = pd.read_csv('singers.csv')\n",
    "singers"
   ]
  },
  {
   "cell_type": "code",
   "execution_count": 42,
   "metadata": {},
   "outputs": [],
   "source": [
    "for i in range(len(singers)):\n",
    "    artist = singers.loc[i,'Singers']\n",
    "    result = sp.search(artist)\n",
    "    singers.loc[i, 'URI'] = result['tracks']['items'][0]['artists'][0]['uri']"
   ]
  },
  {
   "cell_type": "code",
   "execution_count": 43,
   "metadata": {},
   "outputs": [],
   "source": [
    "singers.to_csv('singersgenreuri.csv')"
   ]
  },
  {
   "cell_type": "code",
   "execution_count": 51,
   "metadata": {},
   "outputs": [],
   "source": [
    "artist_uri = []\n",
    "track_uri = []\n",
    "track_preview = []\n",
    "for artist in singers['URI']:\n",
    "    results = sp.artist_top_tracks(artist)\n",
    "    for track in results['tracks'][:10]:\n",
    "        try:  \n",
    "            artist_uri.append(artist)\n",
    "            track_uri.append(track['uri'])\n",
    "            track_preview.append(track['preview_url'])\n",
    "        except:\n",
    "            next    "
   ]
  },
  {
   "cell_type": "code",
   "execution_count": 52,
   "metadata": {},
   "outputs": [],
   "source": [
    "track_df = pd.DataFrame()\n",
    "track_df['Artist'] = artist_uri\n",
    "track_df['TrackURI'] = track_uri\n",
    "track_df['Preview'] = track_preview"
   ]
  },
  {
   "cell_type": "code",
   "execution_count": 53,
   "metadata": {},
   "outputs": [],
   "source": [
    "track_df.to_csv('track_df.csv')"
   ]
  },
  {
   "cell_type": "code",
   "execution_count": 54,
   "metadata": {},
   "outputs": [],
   "source": [
    "total_df = pd.merge(singers, track_df, how = 'outer', left_on='URI', right_on = 'Artist')\n",
    "total_df.to_csv(\"singers, genre, uri, artist, trackuri.csv\")"
   ]
  },
  {
   "cell_type": "code",
   "execution_count": 17,
   "metadata": {},
   "outputs": [
    {
     "ename": "NameError",
     "evalue": "name 'total_df' is not defined",
     "output_type": "error",
     "traceback": [
      "\u001b[1;31m---------------------------------------------------------------------------\u001b[0m",
      "\u001b[1;31mNameError\u001b[0m                                 Traceback (most recent call last)",
      "\u001b[1;32me:\\Noman\\Documents\\Actual Documents\\University\\Master in Business Analytics\\Semester 2 - 20220221 to 20220707\\Advanced Data Analytics\\Projects\\Music\\downloadtest.ipynb Cell 9'\u001b[0m in \u001b[0;36m<cell line: 1>\u001b[1;34m()\u001b[0m\n\u001b[1;32m----> <a href='vscode-notebook-cell:/e%3A/Noman/Documents/Actual%20Documents/University/Master%20in%20Business%20Analytics/Semester%202%20-%2020220221%20to%2020220707/Advanced%20Data%20Analytics/Projects/Music/downloadtest.ipynb#ch0000008?line=0'>1</a>\u001b[0m total_df\n",
      "\u001b[1;31mNameError\u001b[0m: name 'total_df' is not defined"
     ]
    }
   ],
   "source": [
    "total_df"
   ]
  },
  {
   "cell_type": "code",
   "execution_count": 71,
   "metadata": {},
   "outputs": [],
   "source": [
    "total_df2 = total_df.dropna()"
   ]
  },
  {
   "cell_type": "code",
   "execution_count": 76,
   "metadata": {},
   "outputs": [
    {
     "data": {
      "text/html": [
       "<div>\n",
       "<style scoped>\n",
       "    .dataframe tbody tr th:only-of-type {\n",
       "        vertical-align: middle;\n",
       "    }\n",
       "\n",
       "    .dataframe tbody tr th {\n",
       "        vertical-align: top;\n",
       "    }\n",
       "\n",
       "    .dataframe thead th {\n",
       "        text-align: right;\n",
       "    }\n",
       "</style>\n",
       "<table border=\"1\" class=\"dataframe\">\n",
       "  <thead>\n",
       "    <tr style=\"text-align: right;\">\n",
       "      <th></th>\n",
       "      <th>Singers</th>\n",
       "      <th>Genre</th>\n",
       "      <th>Artist</th>\n",
       "      <th>TrackURI</th>\n",
       "      <th>Preview</th>\n",
       "    </tr>\n",
       "  </thead>\n",
       "  <tbody>\n",
       "    <tr>\n",
       "      <th>0</th>\n",
       "      <td>Nusrat Fateh Ali Khan</td>\n",
       "      <td>Qawwali</td>\n",
       "      <td>spotify:artist:5HcunTidTUrOaf8V0iJcvl</td>\n",
       "      <td>spotify:track:2ufLEVbzvEcJ3subW8jBUp</td>\n",
       "      <td>https://p.scdn.co/mp3-preview/60e40221b91d510b...</td>\n",
       "    </tr>\n",
       "    <tr>\n",
       "      <th>1</th>\n",
       "      <td>Nusrat Fateh Ali Khan</td>\n",
       "      <td>Qawwali</td>\n",
       "      <td>spotify:artist:5HcunTidTUrOaf8V0iJcvl</td>\n",
       "      <td>spotify:track:4sNiMTu47WkUgW87qeUlWF</td>\n",
       "      <td>https://p.scdn.co/mp3-preview/5e7533916e316d37...</td>\n",
       "    </tr>\n",
       "    <tr>\n",
       "      <th>2</th>\n",
       "      <td>Nusrat Fateh Ali Khan</td>\n",
       "      <td>Qawwali</td>\n",
       "      <td>spotify:artist:5HcunTidTUrOaf8V0iJcvl</td>\n",
       "      <td>spotify:track:4tMwHkxBwnGkts9mxFpwQy</td>\n",
       "      <td>https://p.scdn.co/mp3-preview/c14827a65208f44b...</td>\n",
       "    </tr>\n",
       "    <tr>\n",
       "      <th>3</th>\n",
       "      <td>Nusrat Fateh Ali Khan</td>\n",
       "      <td>Qawwali</td>\n",
       "      <td>spotify:artist:5HcunTidTUrOaf8V0iJcvl</td>\n",
       "      <td>spotify:track:5wNpnKRUxbPoIpDXFZ5NkU</td>\n",
       "      <td>https://p.scdn.co/mp3-preview/66aaf3d7dad3d076...</td>\n",
       "    </tr>\n",
       "    <tr>\n",
       "      <th>4</th>\n",
       "      <td>Nusrat Fateh Ali Khan</td>\n",
       "      <td>Qawwali</td>\n",
       "      <td>spotify:artist:5HcunTidTUrOaf8V0iJcvl</td>\n",
       "      <td>spotify:track:46Y6dCrKdAiQeelp9px3ww</td>\n",
       "      <td>https://p.scdn.co/mp3-preview/2158f8af0250e98d...</td>\n",
       "    </tr>\n",
       "    <tr>\n",
       "      <th>...</th>\n",
       "      <td>...</td>\n",
       "      <td>...</td>\n",
       "      <td>...</td>\n",
       "      <td>...</td>\n",
       "      <td>...</td>\n",
       "    </tr>\n",
       "    <tr>\n",
       "      <th>959</th>\n",
       "      <td>Pitbull</td>\n",
       "      <td>Hip-Hop</td>\n",
       "      <td>spotify:artist:0TnOYISbd1XYRBk9myaseg</td>\n",
       "      <td>spotify:track:3rfhI32Il2hVRKDkuGeeen</td>\n",
       "      <td>https://p.scdn.co/mp3-preview/bccf42f49e65f845...</td>\n",
       "    </tr>\n",
       "    <tr>\n",
       "      <th>960</th>\n",
       "      <td>Pitbull</td>\n",
       "      <td>Hip-Hop</td>\n",
       "      <td>spotify:artist:0TnOYISbd1XYRBk9myaseg</td>\n",
       "      <td>spotify:track:1PCvKFPWnTXAe2oaReVUcr</td>\n",
       "      <td>https://p.scdn.co/mp3-preview/faa5543826cbcfc6...</td>\n",
       "    </tr>\n",
       "    <tr>\n",
       "      <th>961</th>\n",
       "      <td>Ludacris</td>\n",
       "      <td>Hip-Hop</td>\n",
       "      <td>spotify:artist:1uNFoZAHBGtllmzznpCI3s</td>\n",
       "      <td>spotify:track:5PjdY0CKGZdEuoNab3yDmX</td>\n",
       "      <td>https://p.scdn.co/mp3-preview/40a8daf1f3cbb5c6...</td>\n",
       "    </tr>\n",
       "    <tr>\n",
       "      <th>969</th>\n",
       "      <td>Ludacris</td>\n",
       "      <td>Hip-Hop</td>\n",
       "      <td>spotify:artist:1uNFoZAHBGtllmzznpCI3s</td>\n",
       "      <td>spotify:track:4j5ffIFh7bFT7GZciP1TCy</td>\n",
       "      <td>https://p.scdn.co/mp3-preview/35dde02aaaf1711d...</td>\n",
       "    </tr>\n",
       "    <tr>\n",
       "      <th>970</th>\n",
       "      <td>Ludacris</td>\n",
       "      <td>Hip-Hop</td>\n",
       "      <td>spotify:artist:1uNFoZAHBGtllmzznpCI3s</td>\n",
       "      <td>spotify:track:0hVXuCcriWRGvwMV1r5Yn9</td>\n",
       "      <td>https://p.scdn.co/mp3-preview/0d1ff98f95fdaa89...</td>\n",
       "    </tr>\n",
       "  </tbody>\n",
       "</table>\n",
       "<p>690 rows × 5 columns</p>\n",
       "</div>"
      ],
      "text/plain": [
       "                   Singers    Genre                                 Artist  \\\n",
       "0    Nusrat Fateh Ali Khan  Qawwali  spotify:artist:5HcunTidTUrOaf8V0iJcvl   \n",
       "1    Nusrat Fateh Ali Khan  Qawwali  spotify:artist:5HcunTidTUrOaf8V0iJcvl   \n",
       "2    Nusrat Fateh Ali Khan  Qawwali  spotify:artist:5HcunTidTUrOaf8V0iJcvl   \n",
       "3    Nusrat Fateh Ali Khan  Qawwali  spotify:artist:5HcunTidTUrOaf8V0iJcvl   \n",
       "4    Nusrat Fateh Ali Khan  Qawwali  spotify:artist:5HcunTidTUrOaf8V0iJcvl   \n",
       "..                     ...      ...                                    ...   \n",
       "959                Pitbull  Hip-Hop  spotify:artist:0TnOYISbd1XYRBk9myaseg   \n",
       "960                Pitbull  Hip-Hop  spotify:artist:0TnOYISbd1XYRBk9myaseg   \n",
       "961               Ludacris  Hip-Hop  spotify:artist:1uNFoZAHBGtllmzznpCI3s   \n",
       "969               Ludacris  Hip-Hop  spotify:artist:1uNFoZAHBGtllmzznpCI3s   \n",
       "970               Ludacris  Hip-Hop  spotify:artist:1uNFoZAHBGtllmzznpCI3s   \n",
       "\n",
       "                                 TrackURI  \\\n",
       "0    spotify:track:2ufLEVbzvEcJ3subW8jBUp   \n",
       "1    spotify:track:4sNiMTu47WkUgW87qeUlWF   \n",
       "2    spotify:track:4tMwHkxBwnGkts9mxFpwQy   \n",
       "3    spotify:track:5wNpnKRUxbPoIpDXFZ5NkU   \n",
       "4    spotify:track:46Y6dCrKdAiQeelp9px3ww   \n",
       "..                                    ...   \n",
       "959  spotify:track:3rfhI32Il2hVRKDkuGeeen   \n",
       "960  spotify:track:1PCvKFPWnTXAe2oaReVUcr   \n",
       "961  spotify:track:5PjdY0CKGZdEuoNab3yDmX   \n",
       "969  spotify:track:4j5ffIFh7bFT7GZciP1TCy   \n",
       "970  spotify:track:0hVXuCcriWRGvwMV1r5Yn9   \n",
       "\n",
       "                                               Preview  \n",
       "0    https://p.scdn.co/mp3-preview/60e40221b91d510b...  \n",
       "1    https://p.scdn.co/mp3-preview/5e7533916e316d37...  \n",
       "2    https://p.scdn.co/mp3-preview/c14827a65208f44b...  \n",
       "3    https://p.scdn.co/mp3-preview/66aaf3d7dad3d076...  \n",
       "4    https://p.scdn.co/mp3-preview/2158f8af0250e98d...  \n",
       "..                                                 ...  \n",
       "959  https://p.scdn.co/mp3-preview/bccf42f49e65f845...  \n",
       "960  https://p.scdn.co/mp3-preview/faa5543826cbcfc6...  \n",
       "961  https://p.scdn.co/mp3-preview/40a8daf1f3cbb5c6...  \n",
       "969  https://p.scdn.co/mp3-preview/35dde02aaaf1711d...  \n",
       "970  https://p.scdn.co/mp3-preview/0d1ff98f95fdaa89...  \n",
       "\n",
       "[690 rows x 5 columns]"
      ]
     },
     "execution_count": 76,
     "metadata": {},
     "output_type": "execute_result"
    }
   ],
   "source": [
    "total_df2"
   ]
  },
  {
   "cell_type": "code",
   "execution_count": 77,
   "metadata": {},
   "outputs": [],
   "source": [
    "df = pd.DataFrame(total_df2['TrackURI'])\n",
    "df.columns = ['TrackURI']\n",
    "\n",
    "for i in range(0,df.shape[0]):\n",
    "  try:\n",
    "    time.sleep(random.uniform(3, 6))\n",
    "    URI = df.TrackURI[i]\n",
    "    features = sp.audio_features(URI)\n",
    "    track = sp.track(URI)\n",
    "    df.loc[i, 'track'] = track['name']\n",
    "    df.loc[i,'acousticness'] = features[0]['acousticness']\n",
    "    df.loc[i,'instrumentalness'] = features[0]['instrumentalness']\n",
    "    df.loc[i,'energy'] = features[0]['energy']\n",
    "    df.loc[i,'speechiness'] = features[0]['speechiness']\n",
    "    df.loc[i,'liveness'] = features[0]['liveness']\n",
    "    df.loc[i,'loudness'] = features[0]['loudness']\n",
    "    df.loc[i,'danceability'] = features[0]['danceability']\n",
    "    df.loc[i,'tempo'] = features[0]['tempo']\n",
    "    df.loc[i,'valence'] = features[0]['valence']\n",
    "    uri=0\n",
    "  except:\n",
    "    next"
   ]
  },
  {
   "cell_type": "code",
   "execution_count": 82,
   "metadata": {},
   "outputs": [],
   "source": [
    "df.to_csv('full_spotify.csv')"
   ]
  },
  {
   "cell_type": "code",
   "execution_count": 87,
   "metadata": {},
   "outputs": [],
   "source": [
    "new_df = df[-df['track'].isna()]"
   ]
  },
  {
   "cell_type": "code",
   "execution_count": 93,
   "metadata": {},
   "outputs": [],
   "source": [
    "new_df2 = pd.merge(total_df2, new_df, how = 'left', left_on = 'TrackURI', right_on = 'TrackURI')"
   ]
  },
  {
   "cell_type": "code",
   "execution_count": 99,
   "metadata": {},
   "outputs": [],
   "source": [
    "new_df2 = new_df2[-new_df2['track'].isna()]"
   ]
  },
  {
   "cell_type": "code",
   "execution_count": 102,
   "metadata": {},
   "outputs": [],
   "source": [
    "new_df2.to_csv('spotify_clean.csv')"
   ]
  },
  {
   "cell_type": "code",
   "execution_count": 4,
   "metadata": {},
   "outputs": [],
   "source": [
    "new_df2 = pd.read_csv('../spotify_clean.csv')"
   ]
  },
  {
   "cell_type": "code",
   "execution_count": 5,
   "metadata": {},
   "outputs": [],
   "source": [
    "new_df2.reset_index(inplace = True)"
   ]
  },
  {
   "cell_type": "code",
   "execution_count": 16,
   "metadata": {},
   "outputs": [
    {
     "data": {
      "text/plain": [
       "Metal      99\n",
       "Qawwali    89\n",
       "Ghazal     87\n",
       "Rock       78\n",
       "Pop        71\n",
       "Blues      55\n",
       "Hip-Hop    11\n",
       "Jazz        1\n",
       "Name: Genre, dtype: int64"
      ]
     },
     "execution_count": 16,
     "metadata": {},
     "output_type": "execute_result"
    }
   ],
   "source": [
    "new_df2['Genre'].value_counts()"
   ]
  },
  {
   "cell_type": "code",
   "execution_count": 15,
   "metadata": {},
   "outputs": [],
   "source": [
    "for i in range(len(new_df2)):\n",
    "    try:\n",
    "        r = requests.get(new_df2.loc[i, 'Preview'])\n",
    "        open('{}_{}.wav'.format(new_df2.loc[i,'Genre'], i), 'wb').write(r.content)\n",
    "    except:\n",
    "        next"
   ]
  }
 ],
 "metadata": {
  "interpreter": {
   "hash": "d6ab9c43d0ffc6a876efc8f7abb63dfedf6720c760e248878e2dbeb06a287133"
  },
  "kernelspec": {
   "display_name": "Python 3.10.2 64-bit",
   "language": "python",
   "name": "python3"
  },
  "language_info": {
   "codemirror_mode": {
    "name": "ipython",
    "version": 3
   },
   "file_extension": ".py",
   "mimetype": "text/x-python",
   "name": "python",
   "nbconvert_exporter": "python",
   "pygments_lexer": "ipython3",
   "version": "3.10.2"
  },
  "orig_nbformat": 4
 },
 "nbformat": 4,
 "nbformat_minor": 2
}
