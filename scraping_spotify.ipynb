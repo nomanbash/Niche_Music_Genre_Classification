{
 "cells": [
  {
   "cell_type": "markdown",
   "metadata": {},
   "source": [
    "Loads relevant packages, instantiates spotify credentials manager"
   ]
  },
  {
   "cell_type": "code",
   "execution_count": 6,
   "metadata": {},
   "outputs": [],
   "source": [
    "import spotipy\n",
    "import pandas as pd\n",
    "from spotipy.oauth2 import SpotifyClientCredentials\n",
    "import time\n",
    "import random\n",
    "import requests\n",
    "import regex\n",
    "from string import punctuation\n",
    "client_id = \"6f8bb3e64c2944d586037b9907043601\"\n",
    "client_secret = \"81f5f44660364831be8d9118ccb51785\"\n",
    "client_credentials_manager = SpotifyClientCredentials(client_id=client_id, client_secret=client_secret)\n",
    "sp = spotipy.Spotify(client_credentials_manager=client_credentials_manager)"
   ]
  },
  {
   "cell_type": "markdown",
   "metadata": {},
   "source": [
    "Setting up the genres and the famous artists from each genre to grab off Spotify"
   ]
  },
  {
   "cell_type": "code",
   "execution_count": 40,
   "metadata": {},
   "outputs": [
    {
     "data": {
      "text/html": [
       "<div>\n",
       "<style scoped>\n",
       "    .dataframe tbody tr th:only-of-type {\n",
       "        vertical-align: middle;\n",
       "    }\n",
       "\n",
       "    .dataframe tbody tr th {\n",
       "        vertical-align: top;\n",
       "    }\n",
       "\n",
       "    .dataframe thead th {\n",
       "        text-align: right;\n",
       "    }\n",
       "</style>\n",
       "<table border=\"1\" class=\"dataframe\">\n",
       "  <thead>\n",
       "    <tr style=\"text-align: right;\">\n",
       "      <th></th>\n",
       "      <th>Singers</th>\n",
       "      <th>Genre</th>\n",
       "    </tr>\n",
       "  </thead>\n",
       "  <tbody>\n",
       "    <tr>\n",
       "      <th>0</th>\n",
       "      <td>Nusrat Fateh Ali Khan</td>\n",
       "      <td>Qawwali</td>\n",
       "    </tr>\n",
       "    <tr>\n",
       "      <th>1</th>\n",
       "      <td>Fateh Ali Khan</td>\n",
       "      <td>Qawwali</td>\n",
       "    </tr>\n",
       "    <tr>\n",
       "      <th>2</th>\n",
       "      <td>Sabri Brothers</td>\n",
       "      <td>Qawwali</td>\n",
       "    </tr>\n",
       "    <tr>\n",
       "      <th>3</th>\n",
       "      <td>Mohammad Rafi</td>\n",
       "      <td>Qawwali</td>\n",
       "    </tr>\n",
       "    <tr>\n",
       "      <th>4</th>\n",
       "      <td>Aziz Mian</td>\n",
       "      <td>Qawwali</td>\n",
       "    </tr>\n",
       "    <tr>\n",
       "      <th>...</th>\n",
       "      <td>...</td>\n",
       "      <td>...</td>\n",
       "    </tr>\n",
       "    <tr>\n",
       "      <th>85</th>\n",
       "      <td>Lil Baby</td>\n",
       "      <td>Hip-Hop</td>\n",
       "    </tr>\n",
       "    <tr>\n",
       "      <th>86</th>\n",
       "      <td>Lil Wayne</td>\n",
       "      <td>Hip-Hop</td>\n",
       "    </tr>\n",
       "    <tr>\n",
       "      <th>87</th>\n",
       "      <td>DJ Khaled</td>\n",
       "      <td>Hip-Hop</td>\n",
       "    </tr>\n",
       "    <tr>\n",
       "      <th>88</th>\n",
       "      <td>Pitbull</td>\n",
       "      <td>Hip-Hop</td>\n",
       "    </tr>\n",
       "    <tr>\n",
       "      <th>89</th>\n",
       "      <td>Ludacris</td>\n",
       "      <td>Hip-Hop</td>\n",
       "    </tr>\n",
       "  </tbody>\n",
       "</table>\n",
       "<p>90 rows × 2 columns</p>\n",
       "</div>"
      ],
      "text/plain": [
       "                  Singers    Genre\n",
       "0   Nusrat Fateh Ali Khan  Qawwali\n",
       "1          Fateh Ali Khan  Qawwali\n",
       "2          Sabri Brothers  Qawwali\n",
       "3           Mohammad Rafi  Qawwali\n",
       "4               Aziz Mian  Qawwali\n",
       "..                    ...      ...\n",
       "85               Lil Baby  Hip-Hop\n",
       "86              Lil Wayne  Hip-Hop\n",
       "87              DJ Khaled  Hip-Hop\n",
       "88                Pitbull  Hip-Hop\n",
       "89               Ludacris  Hip-Hop\n",
       "\n",
       "[90 rows x 2 columns]"
      ]
     },
     "execution_count": 40,
     "metadata": {},
     "output_type": "execute_result"
    }
   ],
   "source": [
    "singers = pd.read_csv('singers.csv')\n",
    "singers"
   ]
  },
  {
   "cell_type": "markdown",
   "metadata": {},
   "source": [
    "Getting samples of Top 10 songs from each singer"
   ]
  },
  {
   "cell_type": "code",
   "execution_count": 42,
   "metadata": {},
   "outputs": [],
   "source": [
    "for i in range(len(singers)):\n",
    "    artist = singers.loc[i,'Singers']\n",
    "    result = sp.search(artist)\n",
    "    singers.loc[i, 'URI'] = result['tracks']['items'][0]['artists'][0]['uri']"
   ]
  },
  {
   "cell_type": "markdown",
   "metadata": {},
   "source": [
    "Saving to csv so don't have to repeat the process again"
   ]
  },
  {
   "cell_type": "code",
   "execution_count": 43,
   "metadata": {},
   "outputs": [],
   "source": [
    "singers.to_csv('singersgenreuri.csv')"
   ]
  },
  {
   "cell_type": "markdown",
   "metadata": {},
   "source": [
    "Getting artist id, track id and preview link for later downloading"
   ]
  },
  {
   "cell_type": "code",
   "execution_count": 51,
   "metadata": {},
   "outputs": [],
   "source": [
    "artist_uri = []\n",
    "track_uri = []\n",
    "track_preview = []\n",
    "for artist in singers['URI']:\n",
    "    results = sp.artist_top_tracks(artist)\n",
    "    for track in results['tracks'][:10]:\n",
    "        try:  \n",
    "            artist_uri.append(artist)\n",
    "            track_uri.append(track['uri'])\n",
    "            track_preview.append(track['preview_url'])\n",
    "        except:\n",
    "            next    "
   ]
  },
  {
   "cell_type": "markdown",
   "metadata": {},
   "source": [
    "Joining the newly scraped data into a dataframe"
   ]
  },
  {
   "cell_type": "code",
   "execution_count": 52,
   "metadata": {},
   "outputs": [],
   "source": [
    "track_df = pd.DataFrame()\n",
    "track_df['Artist'] = artist_uri\n",
    "track_df['TrackURI'] = track_uri\n",
    "track_df['Preview'] = track_preview"
   ]
  },
  {
   "cell_type": "markdown",
   "metadata": {},
   "source": [
    "Saving the data so don't have to download it again"
   ]
  },
  {
   "cell_type": "code",
   "execution_count": 53,
   "metadata": {},
   "outputs": [],
   "source": [
    "track_df.to_csv('track_df.csv')"
   ]
  },
  {
   "cell_type": "markdown",
   "metadata": {},
   "source": [
    "Merging the genre/artist data with newly scraped data from Spotify"
   ]
  },
  {
   "cell_type": "code",
   "execution_count": 54,
   "metadata": {},
   "outputs": [],
   "source": [
    "total_df = pd.merge(singers, track_df, how = 'outer', left_on='URI', right_on = 'Artist')\n",
    "total_df.to_csv(\"singers, genre, uri, artist, trackuri.csv\")"
   ]
  },
  {
   "cell_type": "markdown",
   "metadata": {},
   "source": [
    "Removing NAs"
   ]
  },
  {
   "cell_type": "code",
   "execution_count": 71,
   "metadata": {},
   "outputs": [],
   "source": [
    "total_df2 = total_df.dropna()"
   ]
  },
  {
   "cell_type": "markdown",
   "metadata": {},
   "source": [
    "Extracting Audio Features from Each Song that Spotify Calculates (Warnimg takes 60min+ to run, better off just full_spotify.csv)"
   ]
  },
  {
   "cell_type": "code",
   "execution_count": 77,
   "metadata": {},
   "outputs": [],
   "source": [
    "df = pd.DataFrame(total_df2['TrackURI'])\n",
    "df.columns = ['TrackURI']\n",
    "\n",
    "for i in range(0,df.shape[0]):\n",
    "  try:\n",
    "    time.sleep(random.uniform(3, 6))\n",
    "    URI = df.TrackURI[i]\n",
    "    features = sp.audio_features(URI)\n",
    "    track = sp.track(URI)\n",
    "    df.loc[i, 'track'] = track['name']\n",
    "    df.loc[i,'acousticness'] = features[0]['acousticness']\n",
    "    df.loc[i,'instrumentalness'] = features[0]['instrumentalness']\n",
    "    df.loc[i,'energy'] = features[0]['energy']\n",
    "    df.loc[i,'speechiness'] = features[0]['speechiness']\n",
    "    df.loc[i,'liveness'] = features[0]['liveness']\n",
    "    df.loc[i,'loudness'] = features[0]['loudness']\n",
    "    df.loc[i,'danceability'] = features[0]['danceability']\n",
    "    df.loc[i,'tempo'] = features[0]['tempo']\n",
    "    df.loc[i,'valence'] = features[0]['valence']\n",
    "    uri=0\n",
    "  except:\n",
    "    next"
   ]
  },
  {
   "cell_type": "markdown",
   "metadata": {},
   "source": [
    "Saving to CSV"
   ]
  },
  {
   "cell_type": "code",
   "execution_count": 82,
   "metadata": {},
   "outputs": [],
   "source": [
    "df.to_csv('full_spotify.csv')"
   ]
  },
  {
   "cell_type": "markdown",
   "metadata": {},
   "source": [
    "Dropping NAs"
   ]
  },
  {
   "cell_type": "code",
   "execution_count": 87,
   "metadata": {},
   "outputs": [],
   "source": [
    "new_df = df[-df['track'].isna()]"
   ]
  },
  {
   "cell_type": "markdown",
   "metadata": {},
   "source": [
    "Merging with Earlier Dataset"
   ]
  },
  {
   "cell_type": "code",
   "execution_count": 93,
   "metadata": {},
   "outputs": [],
   "source": [
    "new_df2 = pd.merge(total_df2, new_df, how = 'left', left_on = 'TrackURI', right_on = 'TrackURI')"
   ]
  },
  {
   "cell_type": "markdown",
   "metadata": {},
   "source": [
    "Dropping NAs after merge"
   ]
  },
  {
   "cell_type": "code",
   "execution_count": 99,
   "metadata": {},
   "outputs": [],
   "source": [
    "new_df2 = new_df2[-new_df2['track'].isna()]"
   ]
  },
  {
   "cell_type": "markdown",
   "metadata": {},
   "source": [
    "Saving to spotify_clean.csv"
   ]
  },
  {
   "cell_type": "code",
   "execution_count": 102,
   "metadata": {},
   "outputs": [],
   "source": [
    "new_df2.to_csv('spotify_clean.csv')"
   ]
  },
  {
   "cell_type": "markdown",
   "metadata": {},
   "source": [
    "START FROM HERE"
   ]
  },
  {
   "cell_type": "code",
   "execution_count": 24,
   "metadata": {},
   "outputs": [],
   "source": [
    "new_df2 = pd.read_csv('spotify_clean.csv')\n",
    "augmented_dataset = pd.read_csv(\"augmented_dataset.csv\")"
   ]
  },
  {
   "cell_type": "markdown",
   "metadata": {},
   "source": [
    "Gathering Datsets to Augment"
   ]
  },
  {
   "cell_type": "code",
   "execution_count": 28,
   "metadata": {},
   "outputs": [
    {
     "data": {
      "text/html": [
       "<div>\n",
       "<style scoped>\n",
       "    .dataframe tbody tr th:only-of-type {\n",
       "        vertical-align: middle;\n",
       "    }\n",
       "\n",
       "    .dataframe tbody tr th {\n",
       "        vertical-align: top;\n",
       "    }\n",
       "\n",
       "    .dataframe thead th {\n",
       "        text-align: right;\n",
       "    }\n",
       "</style>\n",
       "<table border=\"1\" class=\"dataframe\">\n",
       "  <thead>\n",
       "    <tr style=\"text-align: right;\">\n",
       "      <th></th>\n",
       "      <th>Genre</th>\n",
       "    </tr>\n",
       "  </thead>\n",
       "  <tbody>\n",
       "    <tr>\n",
       "      <th>Classical</th>\n",
       "      <td>3013</td>\n",
       "    </tr>\n",
       "    <tr>\n",
       "      <th>Pop</th>\n",
       "      <td>1203</td>\n",
       "    </tr>\n",
       "    <tr>\n",
       "      <th>Rap</th>\n",
       "      <td>1047</td>\n",
       "    </tr>\n",
       "    <tr>\n",
       "      <th>Blues</th>\n",
       "      <td>747</td>\n",
       "    </tr>\n",
       "    <tr>\n",
       "      <th>Rock</th>\n",
       "      <td>655</td>\n",
       "    </tr>\n",
       "    <tr>\n",
       "      <th>EDM</th>\n",
       "      <td>594</td>\n",
       "    </tr>\n",
       "    <tr>\n",
       "      <th>Hip-Hop</th>\n",
       "      <td>582</td>\n",
       "    </tr>\n",
       "    <tr>\n",
       "      <th>Metal</th>\n",
       "      <td>99</td>\n",
       "    </tr>\n",
       "    <tr>\n",
       "      <th>Qawwali</th>\n",
       "      <td>89</td>\n",
       "    </tr>\n",
       "    <tr>\n",
       "      <th>Ghazal</th>\n",
       "      <td>87</td>\n",
       "    </tr>\n",
       "    <tr>\n",
       "      <th>Jazz</th>\n",
       "      <td>1</td>\n",
       "    </tr>\n",
       "  </tbody>\n",
       "</table>\n",
       "</div>"
      ],
      "text/plain": [
       "           Genre\n",
       "Classical   3013\n",
       "Pop         1203\n",
       "Rap         1047\n",
       "Blues        747\n",
       "Rock         655\n",
       "EDM          594\n",
       "Hip-Hop      582\n",
       "Metal         99\n",
       "Qawwali       89\n",
       "Ghazal        87\n",
       "Jazz           1"
      ]
     },
     "execution_count": 28,
     "metadata": {},
     "output_type": "execute_result"
    }
   ],
   "source": [
    "augmented_dataset.drop_duplicates(inplace = True)\n",
    "complete_spotify = pd.concat([new_df2, augmented_dataset])\n",
    "pd.DataFrame(complete_spotify['Genre'].value_counts())"
   ]
  },
  {
   "cell_type": "code",
   "execution_count": 29,
   "metadata": {},
   "outputs": [],
   "source": [
    "complete_spotify = complete_spotify[-(complete_spotify['Genre'] == 'Jazz')]"
   ]
  },
  {
   "cell_type": "code",
   "execution_count": 34,
   "metadata": {},
   "outputs": [],
   "source": [
    "size = 87\n",
    "pick_samples = lambda x: x.sample(size)\n",
    "\n",
    "subsampled = complete_spotify.groupby('Genre', as_index=False).apply(pick_samples).reset_index(drop=True)"
   ]
  },
  {
   "cell_type": "code",
   "execution_count": 36,
   "metadata": {},
   "outputs": [],
   "source": [
    "subsampled.to_csv(\"subsampled.csv\")"
   ]
  },
  {
   "cell_type": "markdown",
   "metadata": {},
   "source": [
    "This downloads previews of all songs in dataframe"
   ]
  },
  {
   "cell_type": "code",
   "execution_count": 7,
   "metadata": {},
   "outputs": [],
   "source": [
    "for i in range(len(subsampled)):\n",
    "    url = subsampled.loc[i, \"Preview\"]\n",
    "    genre = subsampled.loc[i, \"Genre\"]\n",
    "    track_name = subsampled.loc[i, \"track\"]\n",
    "    track_name = ' '.join(regex.findall('[A-Za-z0-9]+', track_name))\n",
    "      \n",
    "    mp3file = requests.get(url)\n",
    "    os.makedirs(f'./music/{genre}', exist_ok=True)\n",
    "    with open(f'./music/{genre}/{str(i).zfill(3)}_{track_name.strip(punctuation)}.mp3','wb') as output:\n",
    "          output.write(mp3file.content)"
   ]
  }
 ],
 "metadata": {
  "interpreter": {
   "hash": "d6ab9c43d0ffc6a876efc8f7abb63dfedf6720c760e248878e2dbeb06a287133"
  },
  "kernelspec": {
   "display_name": "Python 3.10.2 64-bit",
   "language": "python",
   "name": "python3"
  },
  "language_info": {
   "codemirror_mode": {
    "name": "ipython",
    "version": 3
   },
   "file_extension": ".py",
   "mimetype": "text/x-python",
   "name": "python",
   "nbconvert_exporter": "python",
   "pygments_lexer": "ipython3",
   "version": "3.10.2"
  },
  "orig_nbformat": 4
 },
 "nbformat": 4,
 "nbformat_minor": 2
}
