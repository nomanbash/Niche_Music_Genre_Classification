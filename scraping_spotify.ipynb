{
 "cells": [
  {
   "cell_type": "markdown",
   "metadata": {},
   "source": [
    "Loads relevant packages, instantiates spotify credentials manager"
   ]
  },
  {
   "cell_type": "code",
   "execution_count": 3,
   "metadata": {},
   "outputs": [],
   "source": [
    "import spotipy\n",
    "import pandas as pd\n",
    "from spotipy.oauth2 import SpotifyClientCredentials\n",
    "import time\n",
    "import random\n",
    "import requests\n",
    "import regex\n",
    "from string import punctuation\n",
    "client_id = \"6f8bb3e64c2944d586037b9907043601\"\n",
    "client_secret = \"81f5f44660364831be8d9118ccb51785\"\n",
    "client_credentials_manager = SpotifyClientCredentials(client_id=client_id, client_secret=client_secret)\n",
    "sp = spotipy.Spotify(client_credentials_manager=client_credentials_manager)"
   ]
  },
  {
   "cell_type": "markdown",
   "metadata": {},
   "source": [
    "Setting up the genres and the famous artists from each genre to grab off Spotify"
   ]
  },
  {
   "cell_type": "code",
   "execution_count": 4,
   "metadata": {},
   "outputs": [
    {
     "data": {
      "text/plain": [
       "Pop          173\n",
       "Hip-Hop      151\n",
       "Rock         146\n",
       "Blues        124\n",
       "Rap          124\n",
       "Classical     92\n",
       "EDM           49\n",
       "Qawwali       10\n",
       "Ghazal        10\n",
       "Metal         10\n",
       "Name: Genre, dtype: int64"
      ]
     },
     "execution_count": 4,
     "metadata": {},
     "output_type": "execute_result"
    }
   ],
   "source": [
    "singers = pd.read_csv('singers.csv')\n",
    "singers['Genre'].value_counts()"
   ]
  },
  {
   "cell_type": "markdown",
   "metadata": {},
   "source": [
    "Getting samples of Top 10 songs from each singer"
   ]
  },
  {
   "cell_type": "code",
   "execution_count": 42,
   "metadata": {},
   "outputs": [],
   "source": [
    "for i in range(len(singers)):\n",
    "    artist = singers.loc[i,'Singers']\n",
    "    result = sp.search(artist)\n",
    "    singers.loc[i, 'URI'] = result['tracks']['items'][0]['artists'][0]['uri']"
   ]
  },
  {
   "cell_type": "markdown",
   "metadata": {},
   "source": [
    "Getting artist id, track id and preview link for later downloading"
   ]
  },
  {
   "cell_type": "code",
   "execution_count": 51,
   "metadata": {},
   "outputs": [],
   "source": [
    "artist_uri = []\n",
    "track_uri = []\n",
    "track_preview = []\n",
    "for artist in singers['URI']:\n",
    "    results = sp.artist_top_tracks(artist)\n",
    "    for track in results['tracks'][:10]:\n",
    "        try:  \n",
    "            artist_uri.append(artist)\n",
    "            track_uri.append(track['uri'])\n",
    "            track_preview.append(track['preview_url'])\n",
    "        except:\n",
    "            next    "
   ]
  },
  {
   "cell_type": "markdown",
   "metadata": {},
   "source": [
    "Joining the newly scraped data into a dataframe"
   ]
  },
  {
   "cell_type": "code",
   "execution_count": 52,
   "metadata": {},
   "outputs": [],
   "source": [
    "track_df = pd.DataFrame()\n",
    "track_df['Artist'] = artist_uri\n",
    "track_df['TrackURI'] = track_uri\n",
    "track_df['Preview'] = track_preview"
   ]
  },
  {
   "cell_type": "markdown",
   "metadata": {},
   "source": [
    "Merging the genre/artist data with newly scraped data from Spotify"
   ]
  },
  {
   "cell_type": "code",
   "execution_count": 54,
   "metadata": {},
   "outputs": [],
   "source": [
    "total_df = pd.merge(singers, track_df, how = 'outer', left_on='URI', right_on = 'Artist')"
   ]
  },
  {
   "cell_type": "markdown",
   "metadata": {},
   "source": [
    "Removing NAs"
   ]
  },
  {
   "cell_type": "code",
   "execution_count": 71,
   "metadata": {},
   "outputs": [],
   "source": [
    "total_df2 = total_df.dropna()"
   ]
  },
  {
   "cell_type": "markdown",
   "metadata": {},
   "source": [
    "Extracting Audio Features from Each Song that Spotify Calculates (Warnimg takes 60min+ to run, better off just full_spotify.csv)"
   ]
  },
  {
   "cell_type": "code",
   "execution_count": 77,
   "metadata": {},
   "outputs": [],
   "source": [
    "df = pd.DataFrame(total_df2['TrackURI'])\n",
    "df.columns = ['TrackURI']\n",
    "\n",
    "for i in range(0,df.shape[0]):\n",
    "  try:\n",
    "    time.sleep(random.uniform(3, 6))\n",
    "    URI = df.TrackURI[i]\n",
    "    features = sp.audio_features(URI)\n",
    "    track = sp.track(URI)\n",
    "    df.loc[i, 'track'] = track['name']\n",
    "    df.loc[i,'acousticness'] = features[0]['acousticness']\n",
    "    df.loc[i,'instrumentalness'] = features[0]['instrumentalness']\n",
    "    df.loc[i,'energy'] = features[0]['energy']\n",
    "    df.loc[i,'speechiness'] = features[0]['speechiness']\n",
    "    df.loc[i,'liveness'] = features[0]['liveness']\n",
    "    df.loc[i,'loudness'] = features[0]['loudness']\n",
    "    df.loc[i,'danceability'] = features[0]['danceability']\n",
    "    df.loc[i,'tempo'] = features[0]['tempo']\n",
    "    df.loc[i,'valence'] = features[0]['valence']\n",
    "    uri=0\n",
    "  except:\n",
    "    next"
   ]
  },
  {
   "cell_type": "markdown",
   "metadata": {},
   "source": [
    "Dropping NAs"
   ]
  },
  {
   "cell_type": "code",
   "execution_count": 87,
   "metadata": {},
   "outputs": [],
   "source": [
    "new_df = df[-df['track'].isna()]"
   ]
  },
  {
   "cell_type": "markdown",
   "metadata": {},
   "source": [
    "Merging with Earlier Dataset"
   ]
  },
  {
   "cell_type": "code",
   "execution_count": 93,
   "metadata": {},
   "outputs": [],
   "source": [
    "new_df2 = pd.merge(total_df2, new_df, how = 'left', left_on = 'TrackURI', right_on = 'TrackURI')"
   ]
  },
  {
   "cell_type": "markdown",
   "metadata": {},
   "source": [
    "Dropping NAs after merge"
   ]
  },
  {
   "cell_type": "code",
   "execution_count": 99,
   "metadata": {},
   "outputs": [],
   "source": [
    "new_df2 = new_df2[-new_df2['track'].isna()]"
   ]
  },
  {
   "cell_type": "markdown",
   "metadata": {},
   "source": [
    "Saving to CSV"
   ]
  },
  {
   "cell_type": "code",
   "execution_count": 102,
   "metadata": {},
   "outputs": [],
   "source": [
    "new_df2.to_csv('subsampled.csv')"
   ]
  },
  {
   "cell_type": "markdown",
   "metadata": {},
   "source": [
    "Unfortunately, there were only a few qawwali artists so we'll have to manually download the data for the genres which have fewer instances by looking up albums"
   ]
  },
  {
   "cell_type": "code",
   "execution_count": null,
   "metadata": {},
   "outputs": [],
   "source": [
    "def get_data(playlist, genre):\n",
    "  playlist_link = playlist\n",
    "  playlist_URI = playlist_link.split(\"/\")[-1].split(\"?\")[0]\n",
    "  track_uris = [x[\"track\"][\"uri\"] for x in sp.playlist_tracks(playlist_URI)[\"items\"]]\n",
    "  df = pd.DataFrame(track_uris)\n",
    "  df.columns = ['TrackURI']\n",
    "  for i in range(df.shape[0]):\n",
    "    try:\n",
    "      URI = df.TrackURI[i]\n",
    "      track = sp.track(track_uris[i])\n",
    "      features = sp.audio_features(URI)\n",
    "      df.loc[i, 'Singers'] = track['artists'][0]['name']\n",
    "      df.loc[i, 'Genre'] = genre\n",
    "      df.loc[i, 'Artist'] = track['artists'][0]['uri']\n",
    "      df.loc[i, 'Preview'] = track['preview_url']\n",
    "      df.loc[i, 'track'] = track['name']\n",
    "      df.loc[i,'acousticness'] = features[0]['acousticness']\n",
    "      df.loc[i,'instrumentalness'] = features[0]['instrumentalness']\n",
    "      df.loc[i,'energy'] = features[0]['energy']\n",
    "      df.loc[i,'speechiness'] = features[0]['speechiness']\n",
    "      df.loc[i,'liveness'] = features[0]['liveness']\n",
    "      df.loc[i,'loudness'] = features[0]['loudness']\n",
    "      df.loc[i,'danceability'] = features[0]['danceability']\n",
    "      df.loc[i,'tempo'] = features[0]['tempo']\n",
    "      df.loc[i,'valence'] = features[0]['valence']\n",
    "    except:\n",
    "      next\n",
    "  \n",
    "  return df"
   ]
  },
  {
   "cell_type": "code",
   "execution_count": null,
   "metadata": {},
   "outputs": [],
   "source": [
    "qawwali = \"https://open.spotify.com/playlist/0USwGwasJVrHVN5Xkdhw0d?si=de90c13a7b4a4d4f\"\n",
    "qawwali2 = \"https://open.spotify.com/playlist/0CgbguP9exGwRVdRXLMsPS?si=c902a490d29e4277\"\n",
    "qawwali3 = \"https://open.spotify.com/playlist/0CgbguP9exGwRVdRXLMsPS?si=f25dd5cf963048e1\"\n",
    "ghazal = \"https://open.spotify.com/playlist/23aE9YFTUW11CcyoQhbGzT?si=79d1f449158d4a01\"\n",
    "ghazal2 = \"https://open.spotify.com/playlist/3C50t7049A6xf4w0rhfwgD?si=83083f7f5fc7460b\"\n",
    "edm = \"https://open.spotify.com/playlist/2NIe54HdwR5msTjrlHG1Lt?si=ff336b7898a24f98\"\n",
    "metal = \"https://open.spotify.com/playlist/27gN69ebwiJRtXEboL12Ih?si=838e862f19144616\"\n",
    "\n",
    "\n",
    "qawwali_df = get_data(qawwali, 'Qawwali') \n",
    "qawwal_df2 = get_data(qawwali2, 'Qawwali')\n",
    "qawwali_df3 = get_data(qawwali3, 'Qawwali') \n",
    "ghazal_df = get_data(ghazal, 'Ghazal')\n",
    "ghazal_df2 = get_data(ghazal2, 'Ghazal')\n",
    "edm_df = get_data(edm, 'EDM')\n",
    "metal_df = get_data(metal, 'Metal')"
   ]
  },
  {
   "cell_type": "code",
   "execution_count": null,
   "metadata": {},
   "outputs": [],
   "source": [
    "qawwali_df = pd.concat([qawwali_df, qawwali_df2, qawwali_df3], ignore_index=True)\n",
    "ghazal_df = pd.concat([ghazal_df, ghazal_df2], ignore_index=True)"
   ]
  },
  {
   "cell_type": "code",
   "execution_count": null,
   "metadata": {},
   "outputs": [],
   "source": [
    "qawwali_df.dropna(inplace = True)\n",
    "ghazal_df.dropna(inplace = True)\n",
    "edm_df.dropna(inplace = True)\n",
    "metal_df.dropna(inplace = True)"
   ]
  },
  {
   "cell_type": "code",
   "execution_count": null,
   "metadata": {},
   "outputs": [],
   "source": [
    "album_data = pd.concat([qawwali_df, ghazal_df, edm_df, metal_df], ignore_index = True)\n",
    "album_data.to_csv(\"albumdata.csv\")"
   ]
  },
  {
   "cell_type": "markdown",
   "metadata": {},
   "source": [
    "Concatenating the two"
   ]
  },
  {
   "cell_type": "code",
   "execution_count": 8,
   "metadata": {},
   "outputs": [],
   "source": [
    "subsampled = pd.concat([subsampled, album_data], ignore_index = True)\n",
    "subsampled.drop_duplicates(inplace = True)"
   ]
  },
  {
   "cell_type": "code",
   "execution_count": 12,
   "metadata": {},
   "outputs": [],
   "source": [
    "subsampled['Genre'].value_counts()\n",
    "subsampled.to_csv('subsampled.csv')"
   ]
  },
  {
   "cell_type": "markdown",
   "metadata": {},
   "source": [
    "This downloads previews of all songs in dataframe"
   ]
  },
  {
   "cell_type": "code",
   "execution_count": 6,
   "metadata": {},
   "outputs": [],
   "source": [
    "for i in range(len(a)):\n",
    "    url = subsampled.loc[i, \"Preview\"]\n",
    "    genre = subsampled.loc[i, \"Genre\"]\n",
    "    track_name = subsampled.loc[i, \"track\"]\n",
    "    track_name = ' '.join(regex.findall('[A-Za-z0-9]+', track_name))\n",
    "      \n",
    "    mp3file = requests.get(url)\n",
    "    os.makedirs(f'./music/{genre}', exist_ok=True)\n",
    "    with open(f'./music/{genre}/{str(i).zfill(3)}_{track_name.strip(punctuation)}.mp3','wb') as output:\n",
    "          output.write(mp3file.content)"
   ]
  }
 ],
 "metadata": {
  "interpreter": {
   "hash": "d6ab9c43d0ffc6a876efc8f7abb63dfedf6720c760e248878e2dbeb06a287133"
  },
  "kernelspec": {
   "display_name": "Python 3.10.2 64-bit",
   "language": "python",
   "name": "python3"
  },
  "language_info": {
   "codemirror_mode": {
    "name": "ipython",
    "version": 3
   },
   "file_extension": ".py",
   "mimetype": "text/x-python",
   "name": "python",
   "nbconvert_exporter": "python",
   "pygments_lexer": "ipython3",
   "version": "3.10.2"
  },
  "orig_nbformat": 4
 },
 "nbformat": 4,
 "nbformat_minor": 2
}
