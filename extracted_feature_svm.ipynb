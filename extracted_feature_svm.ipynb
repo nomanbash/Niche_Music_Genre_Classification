{
 "cells": [
  {
   "cell_type": "markdown",
   "metadata": {},
   "source": [
    "Importing the necessary libraries"
   ]
  },
  {
   "cell_type": "code",
   "execution_count": 1,
   "metadata": {},
   "outputs": [],
   "source": [
    "import numpy as np\n",
    "import pandas as pd\n",
    "from sklearn.model_selection import train_test_split\n",
    "from sklearn.preprocessing import StandardScaler\n",
    "from sklearn.svm import SVC\n",
    "from sklearn.metrics import confusion_matrix, precision_score, recall_score, f1_score,accuracy_score\n",
    "from sklearn.model_selection import GridSearchCV\n",
    "from sklearn import preprocessing\n",
    "import seaborn as sns"
   ]
  },
  {
   "cell_type": "markdown",
   "metadata": {},
   "source": [
    "Importing the Dataset"
   ]
  },
  {
   "cell_type": "code",
   "execution_count": 2,
   "metadata": {},
   "outputs": [],
   "source": [
    "music = pd.read_csv('musicdata.csv', encoding = \"ISO-8859-1\")"
   ]
  },
  {
   "cell_type": "markdown",
   "metadata": {},
   "source": [
    "Looking at the Genres"
   ]
  },
  {
   "cell_type": "code",
   "execution_count": 3,
   "metadata": {},
   "outputs": [
    {
     "data": {
      "text/plain": [
       "Classical    472\n",
       "Rock         377\n",
       "Blues        368\n",
       "Pop          271\n",
       "Hip-Hop      205\n",
       "Qawwali      198\n",
       "Rap          186\n",
       "EDM          140\n",
       "Ghazal       134\n",
       "Metal        113\n",
       "Name: genre, dtype: int64"
      ]
     },
     "execution_count": 3,
     "metadata": {},
     "output_type": "execute_result"
    }
   ],
   "source": [
    "music['genre'].value_counts()"
   ]
  },
  {
   "cell_type": "markdown",
   "metadata": {},
   "source": [
    "Testing out an SVM Model Without Hyperparameter Tuning"
   ]
  },
  {
   "cell_type": "code",
   "execution_count": 4,
   "metadata": {},
   "outputs": [
    {
     "name": "stdout",
     "output_type": "stream",
     "text": [
      "Accuracy :\n",
      " 0.5517241379310345\n"
     ]
    }
   ],
   "source": [
    "##Extracting all spotify features as a matrix\n",
    "X = music.iloc[:, 3:26].values\n",
    "\n",
    "## Extracting Genres\n",
    "y = music['genre']\n",
    "\n",
    "# split into training data (80%) and test data (20%)\n",
    "X_train, X_test, y_train, y_test = train_test_split(X, y, test_size=0.2, stratify = y, shuffle = True, random_state=0)\n",
    "\n",
    "# Standardize\n",
    "scaler = StandardScaler()\n",
    "X_train_standardized = scaler.fit_transform(X_train)\n",
    "X_test_standardized = scaler.transform(X_test)\n",
    "\n",
    "#create parameter grid for tuning\n",
    "svm = SVC(kernel = 'rbf', C=1, random_state = 0)\n",
    "svm.fit(X_train_standardized,y_train)\n",
    "y_predicted = svm.predict(X_test_standardized)\n",
    "## \n",
    "print(\"Accuracy :\\n\", accuracy_score(y_true=y_test, y_pred=y_predicted))\n"
   ]
  },
  {
   "cell_type": "markdown",
   "metadata": {},
   "source": [
    "Tuning of hyperparameters and model selection"
   ]
  },
  {
   "cell_type": "code",
   "execution_count": 5,
   "metadata": {},
   "outputs": [
    {
     "name": "stdout",
     "output_type": "stream",
     "text": [
      "Fitting 5 folds for each of 18 candidates, totalling 90 fits\n"
     ]
    }
   ],
   "source": [
    "param_grid = { 'C':[0.1,1,100],'kernel':['rbf','linear'],'gamma': [1, 0.1, 0.01]}\n",
    "grid = GridSearchCV(SVC(), param_grid, refit = True, verbose = 3, n_jobs= -1)\n",
    "\n",
    "# train SVM\n",
    "grid_model_result = grid.fit(X_train_standardized, y_train)\n",
    "\n",
    "#extracting best parameters\n",
    "best_params = grid.best_params_"
   ]
  },
  {
   "cell_type": "markdown",
   "metadata": {},
   "source": [
    "Getting the accuracy"
   ]
  },
  {
   "cell_type": "code",
   "execution_count": 5,
   "metadata": {},
   "outputs": [
    {
     "ename": "NameError",
     "evalue": "name 'grid_model_result' is not defined",
     "output_type": "error",
     "traceback": [
      "\u001b[1;31m---------------------------------------------------------------------------\u001b[0m",
      "\u001b[1;31mNameError\u001b[0m                                 Traceback (most recent call last)",
      "\u001b[1;32me:\\Noman\\Documents\\Actual Documents\\University\\Master in Business Analytics\\Semester 2 - 20220221 to 20220707\\Advanced Data Analytics\\Projects\\Git\\extracted_feature_svm.ipynb Cell 12'\u001b[0m in \u001b[0;36m<cell line: 1>\u001b[1;34m()\u001b[0m\n\u001b[1;32m----> <a href='vscode-notebook-cell:/e%3A/Noman/Documents/Actual%20Documents/University/Master%20in%20Business%20Analytics/Semester%202%20-%2020220221%20to%2020220707/Advanced%20Data%20Analytics/Projects/Git/extracted_feature_svm.ipynb#ch0000011?line=0'>1</a>\u001b[0m y_predicted \u001b[39m=\u001b[39m grid_model_result\u001b[39m.\u001b[39mbest_estimator_\u001b[39m.\u001b[39mpredict(X_test_standardized)\n\u001b[0;32m      <a href='vscode-notebook-cell:/e%3A/Noman/Documents/Actual%20Documents/University/Master%20in%20Business%20Analytics/Semester%202%20-%2020220221%20to%2020220707/Advanced%20Data%20Analytics/Projects/Git/extracted_feature_svm.ipynb#ch0000011?line=1'>2</a>\u001b[0m \u001b[39mprint\u001b[39m(\u001b[39m\"\u001b[39m\u001b[39mAccuracy :\u001b[39m\u001b[39m\\n\u001b[39;00m\u001b[39m\"\u001b[39m, accuracy_score(y_true\u001b[39m=\u001b[39my_test, y_pred\u001b[39m=\u001b[39my_predicted))\n",
      "\u001b[1;31mNameError\u001b[0m: name 'grid_model_result' is not defined"
     ]
    }
   ],
   "source": [
    "y_predicted = grid_model_result.best_estimator_.predict(X_test_standardized)\n",
    "print(\"Accuracy :\\n\", accuracy_score(y_true=y_test, y_pred=y_predicted))"
   ]
  },
  {
   "cell_type": "markdown",
   "metadata": {},
   "source": [
    "Checking Which Results Are Wrong"
   ]
  },
  {
   "cell_type": "code",
   "execution_count": 14,
   "metadata": {},
   "outputs": [
    {
     "data": {
      "text/plain": [
       "Blues        0.210084\n",
       "Hip-Hop      0.159664\n",
       "Pop          0.151261\n",
       "EDM          0.109244\n",
       "Metal        0.109244\n",
       "Rap          0.067227\n",
       "Rock         0.067227\n",
       "Qawwali      0.058824\n",
       "Ghazal       0.050420\n",
       "Classical    0.016807\n",
       "Name: genre, dtype: float64"
      ]
     },
     "execution_count": 14,
     "metadata": {},
     "output_type": "execute_result"
    }
   ],
   "source": [
    "results = pd.DataFrame(X_test.copy())\n",
    "results.loc[:, 'genre'] = list(y_test)\n",
    "results.loc[:, 'preds'] = y_predicted.copy()\n",
    "results_wrong = results[results['genre'] != results['preds']]\n",
    "results_wrong['genre'].value_counts(normalize=True)"
   ]
  },
  {
   "cell_type": "code",
   "execution_count": 15,
   "metadata": {},
   "outputs": [
    {
     "data": {
      "text/plain": [
       "<AxesSubplot:xlabel='genre', ylabel='count'>"
      ]
     },
     "execution_count": 15,
     "metadata": {},
     "output_type": "execute_result"
    },
    {
     "data": {
      "image/png": "[encoded data removed]",
      "text/plain": [
       "<Figure size 432x288 with 1 Axes>"
      ]
     },
     "metadata": {
      "needs_background": "light"
     },
     "output_type": "display_data"
    }
   ],
   "source": [
    "sns.countplot( x = results_wrong['genre'])"
   ]
  },
  {
   "cell_type": "markdown",
   "metadata": {},
   "source": [
    "We can see from the chart that Blues, Ghazal and Qawwali are the most incorrectly classified, indicating that our hypothesis might be true and might have some weight to it"
   ]
  }
 ],
 "metadata": {
  "interpreter": {
   "hash": "d6ab9c43d0ffc6a876efc8f7abb63dfedf6720c760e248878e2dbeb06a287133"
  },
  "kernelspec": {
   "display_name": "Python 3.10.2 64-bit",
   "language": "python",
   "name": "python3"
  },
  "language_info": {
   "codemirror_mode": {
    "name": "ipython",
    "version": 3
   },
   "file_extension": ".py",
   "mimetype": "text/x-python",
   "name": "python",
   "nbconvert_exporter": "python",
   "pygments_lexer": "ipython3",
   "version": "3.10.2"
  },
  "orig_nbformat": 4
 },
 "nbformat": 4,
 "nbformat_minor": 2
}
