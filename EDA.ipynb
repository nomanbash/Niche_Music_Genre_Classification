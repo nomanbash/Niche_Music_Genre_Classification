{
 "cells": [
  {
   "cell_type": "code",
   "execution_count": 1,
   "metadata": {},
   "outputs": [],
   "source": [
    "import pandas as pd\n",
    "import matplotlib.pyplot as plt\n",
    "import seaborn as sns"
   ]
  },
  {
   "cell_type": "code",
   "execution_count": 2,
   "metadata": {},
   "outputs": [],
   "source": [
    "music = pd.read_csv('subsampled.csv')"
   ]
  },
  {
   "cell_type": "code",
   "execution_count": 3,
   "metadata": {},
   "outputs": [],
   "source": [
    "sliced =music[['Genre', 'acousticness','instrumentalness','energy','speechiness','liveness','loudness','danceability','tempo']]"
   ]
  },
  {
   "cell_type": "code",
   "execution_count": 4,
   "metadata": {},
   "outputs": [],
   "source": [
    "new_df = pd.melt(sliced, id_vars = ['Genre'], value_vars = ['acousticness','instrumentalness','energy','speechiness','liveness','loudness','danceability','tempo'],\n",
    "        var_name='Feature', value_name='Values')"
   ]
  },
  {
   "cell_type": "code",
   "execution_count": 5,
   "metadata": {},
   "outputs": [
    {
     "ename": "ValueError",
     "evalue": "Cannot use `row` and `col_wrap` together.",
     "output_type": "error",
     "traceback": [
      "\u001b[1;31m---------------------------------------------------------------------------\u001b[0m",
      "\u001b[1;31mValueError\u001b[0m                                Traceback (most recent call last)",
      "\u001b[1;32me:\\Noman\\Documents\\Actual Documents\\University\\Master in Business Analytics\\Semester 2 - 20220221 to 20220707\\Advanced Data Analytics\\Projects\\Git\\EDA.ipynb Cell 5'\u001b[0m in \u001b[0;36m<cell line: 1>\u001b[1;34m()\u001b[0m\n\u001b[1;32m----> <a href='vscode-notebook-cell:/e%3A/Noman/Documents/Actual%20Documents/University/Master%20in%20Business%20Analytics/Semester%202%20-%2020220221%20to%2020220707/Advanced%20Data%20Analytics/Projects/Git/EDA.ipynb#ch0000004?line=0'>1</a>\u001b[0m sns\u001b[39m.\u001b[39;49mcatplot(data \u001b[39m=\u001b[39;49m new_df, x \u001b[39m=\u001b[39;49m \u001b[39m'\u001b[39;49m\u001b[39mGenre\u001b[39;49m\u001b[39m'\u001b[39;49m, y \u001b[39m=\u001b[39;49m \u001b[39m'\u001b[39;49m\u001b[39mValues\u001b[39;49m\u001b[39m'\u001b[39;49m, row \u001b[39m=\u001b[39;49m \u001b[39m'\u001b[39;49m\u001b[39mFeature\u001b[39;49m\u001b[39m'\u001b[39;49m, col_wrap \u001b[39m=\u001b[39;49m \u001b[39m2\u001b[39;49m,kind \u001b[39m=\u001b[39;49m \u001b[39m'\u001b[39;49m\u001b[39mbox\u001b[39;49m\u001b[39m'\u001b[39;49m)\n",
      "File \u001b[1;32mc:\\Users\\Noman\\AppData\\Local\\Programs\\Python\\Python310\\lib\\site-packages\\seaborn\\_decorators.py:46\u001b[0m, in \u001b[0;36m_deprecate_positional_args.<locals>.inner_f\u001b[1;34m(*args, **kwargs)\u001b[0m\n\u001b[0;32m     <a href='file:///c%3A/Users/Noman/AppData/Local/Programs/Python/Python310/lib/site-packages/seaborn/_decorators.py?line=35'>36</a>\u001b[0m     warnings\u001b[39m.\u001b[39mwarn(\n\u001b[0;32m     <a href='file:///c%3A/Users/Noman/AppData/Local/Programs/Python/Python310/lib/site-packages/seaborn/_decorators.py?line=36'>37</a>\u001b[0m         \u001b[39m\"\u001b[39m\u001b[39mPass the following variable\u001b[39m\u001b[39m{}\u001b[39;00m\u001b[39m as \u001b[39m\u001b[39m{}\u001b[39;00m\u001b[39mkeyword arg\u001b[39m\u001b[39m{}\u001b[39;00m\u001b[39m: \u001b[39m\u001b[39m{}\u001b[39;00m\u001b[39m. \u001b[39m\u001b[39m\"\u001b[39m\n\u001b[0;32m     <a href='file:///c%3A/Users/Noman/AppData/Local/Programs/Python/Python310/lib/site-packages/seaborn/_decorators.py?line=37'>38</a>\u001b[0m         \u001b[39m\"\u001b[39m\u001b[39mFrom version 0.12, the only valid positional argument \u001b[39m\u001b[39m\"\u001b[39m\n\u001b[1;32m   (...)\u001b[0m\n\u001b[0;32m     <a href='file:///c%3A/Users/Noman/AppData/Local/Programs/Python/Python310/lib/site-packages/seaborn/_decorators.py?line=42'>43</a>\u001b[0m         \u001b[39mFutureWarning\u001b[39;00m\n\u001b[0;32m     <a href='file:///c%3A/Users/Noman/AppData/Local/Programs/Python/Python310/lib/site-packages/seaborn/_decorators.py?line=43'>44</a>\u001b[0m     )\n\u001b[0;32m     <a href='file:///c%3A/Users/Noman/AppData/Local/Programs/Python/Python310/lib/site-packages/seaborn/_decorators.py?line=44'>45</a>\u001b[0m kwargs\u001b[39m.\u001b[39mupdate({k: arg \u001b[39mfor\u001b[39;00m k, arg \u001b[39min\u001b[39;00m \u001b[39mzip\u001b[39m(sig\u001b[39m.\u001b[39mparameters, args)})\n\u001b[1;32m---> <a href='file:///c%3A/Users/Noman/AppData/Local/Programs/Python/Python310/lib/site-packages/seaborn/_decorators.py?line=45'>46</a>\u001b[0m \u001b[39mreturn\u001b[39;00m f(\u001b[39m*\u001b[39m\u001b[39m*\u001b[39mkwargs)\n",
      "File \u001b[1;32mc:\\Users\\Noman\\AppData\\Local\\Programs\\Python\\Python310\\lib\\site-packages\\seaborn\\categorical.py:3844\u001b[0m, in \u001b[0;36mcatplot\u001b[1;34m(x, y, hue, data, row, col, col_wrap, estimator, ci, n_boot, units, seed, order, hue_order, row_order, col_order, kind, height, aspect, orient, color, palette, legend, legend_out, sharex, sharey, margin_titles, facet_kws, **kwargs)\u001b[0m\n\u001b[0;32m   <a href='file:///c%3A/Users/Noman/AppData/Local/Programs/Python/Python310/lib/site-packages/seaborn/categorical.py?line=3838'>3839</a>\u001b[0m     plot_kws\u001b[39m.\u001b[39mupdate(\n\u001b[0;32m   <a href='file:///c%3A/Users/Noman/AppData/Local/Programs/Python/Python310/lib/site-packages/seaborn/categorical.py?line=3839'>3840</a>\u001b[0m         estimator\u001b[39m=\u001b[39mestimator, ci\u001b[39m=\u001b[39mci, n_boot\u001b[39m=\u001b[39mn_boot, units\u001b[39m=\u001b[39munits, seed\u001b[39m=\u001b[39mseed,\n\u001b[0;32m   <a href='file:///c%3A/Users/Noman/AppData/Local/Programs/Python/Python310/lib/site-packages/seaborn/categorical.py?line=3840'>3841</a>\u001b[0m     )\n\u001b[0;32m   <a href='file:///c%3A/Users/Noman/AppData/Local/Programs/Python/Python310/lib/site-packages/seaborn/categorical.py?line=3842'>3843</a>\u001b[0m \u001b[39m# Initialize the facets\u001b[39;00m\n\u001b[1;32m-> <a href='file:///c%3A/Users/Noman/AppData/Local/Programs/Python/Python310/lib/site-packages/seaborn/categorical.py?line=3843'>3844</a>\u001b[0m g \u001b[39m=\u001b[39m FacetGrid(\u001b[39m*\u001b[39m\u001b[39m*\u001b[39mfacet_kws)\n\u001b[0;32m   <a href='file:///c%3A/Users/Noman/AppData/Local/Programs/Python/Python310/lib/site-packages/seaborn/categorical.py?line=3845'>3846</a>\u001b[0m \u001b[39m# Draw the plot onto the facets\u001b[39;00m\n\u001b[0;32m   <a href='file:///c%3A/Users/Noman/AppData/Local/Programs/Python/Python310/lib/site-packages/seaborn/categorical.py?line=3846'>3847</a>\u001b[0m g\u001b[39m.\u001b[39mmap_dataframe(plot_func, x\u001b[39m=\u001b[39mx, y\u001b[39m=\u001b[39my, hue\u001b[39m=\u001b[39mhue, \u001b[39m*\u001b[39m\u001b[39m*\u001b[39mplot_kws)\n",
      "File \u001b[1;32mc:\\Users\\Noman\\AppData\\Local\\Programs\\Python\\Python310\\lib\\site-packages\\seaborn\\_decorators.py:46\u001b[0m, in \u001b[0;36m_deprecate_positional_args.<locals>.inner_f\u001b[1;34m(*args, **kwargs)\u001b[0m\n\u001b[0;32m     <a href='file:///c%3A/Users/Noman/AppData/Local/Programs/Python/Python310/lib/site-packages/seaborn/_decorators.py?line=35'>36</a>\u001b[0m     warnings\u001b[39m.\u001b[39mwarn(\n\u001b[0;32m     <a href='file:///c%3A/Users/Noman/AppData/Local/Programs/Python/Python310/lib/site-packages/seaborn/_decorators.py?line=36'>37</a>\u001b[0m         \u001b[39m\"\u001b[39m\u001b[39mPass the following variable\u001b[39m\u001b[39m{}\u001b[39;00m\u001b[39m as \u001b[39m\u001b[39m{}\u001b[39;00m\u001b[39mkeyword arg\u001b[39m\u001b[39m{}\u001b[39;00m\u001b[39m: \u001b[39m\u001b[39m{}\u001b[39;00m\u001b[39m. \u001b[39m\u001b[39m\"\u001b[39m\n\u001b[0;32m     <a href='file:///c%3A/Users/Noman/AppData/Local/Programs/Python/Python310/lib/site-packages/seaborn/_decorators.py?line=37'>38</a>\u001b[0m         \u001b[39m\"\u001b[39m\u001b[39mFrom version 0.12, the only valid positional argument \u001b[39m\u001b[39m\"\u001b[39m\n\u001b[1;32m   (...)\u001b[0m\n\u001b[0;32m     <a href='file:///c%3A/Users/Noman/AppData/Local/Programs/Python/Python310/lib/site-packages/seaborn/_decorators.py?line=42'>43</a>\u001b[0m         \u001b[39mFutureWarning\u001b[39;00m\n\u001b[0;32m     <a href='file:///c%3A/Users/Noman/AppData/Local/Programs/Python/Python310/lib/site-packages/seaborn/_decorators.py?line=43'>44</a>\u001b[0m     )\n\u001b[0;32m     <a href='file:///c%3A/Users/Noman/AppData/Local/Programs/Python/Python310/lib/site-packages/seaborn/_decorators.py?line=44'>45</a>\u001b[0m kwargs\u001b[39m.\u001b[39mupdate({k: arg \u001b[39mfor\u001b[39;00m k, arg \u001b[39min\u001b[39;00m \u001b[39mzip\u001b[39m(sig\u001b[39m.\u001b[39mparameters, args)})\n\u001b[1;32m---> <a href='file:///c%3A/Users/Noman/AppData/Local/Programs/Python/Python310/lib/site-packages/seaborn/_decorators.py?line=45'>46</a>\u001b[0m \u001b[39mreturn\u001b[39;00m f(\u001b[39m*\u001b[39m\u001b[39m*\u001b[39mkwargs)\n",
      "File \u001b[1;32mc:\\Users\\Noman\\AppData\\Local\\Programs\\Python\\Python310\\lib\\site-packages\\seaborn\\axisgrid.py:382\u001b[0m, in \u001b[0;36mFacetGrid.__init__\u001b[1;34m(self, data, row, col, hue, col_wrap, sharex, sharey, height, aspect, palette, row_order, col_order, hue_order, hue_kws, dropna, legend_out, despine, margin_titles, xlim, ylim, subplot_kws, gridspec_kws, size)\u001b[0m\n\u001b[0;32m    <a href='file:///c%3A/Users/Noman/AppData/Local/Programs/Python/Python310/lib/site-packages/seaborn/axisgrid.py?line=379'>380</a>\u001b[0m \u001b[39mif\u001b[39;00m row \u001b[39mis\u001b[39;00m \u001b[39mnot\u001b[39;00m \u001b[39mNone\u001b[39;00m:\n\u001b[0;32m    <a href='file:///c%3A/Users/Noman/AppData/Local/Programs/Python/Python310/lib/site-packages/seaborn/axisgrid.py?line=380'>381</a>\u001b[0m     err \u001b[39m=\u001b[39m \u001b[39m\"\u001b[39m\u001b[39mCannot use `row` and `col_wrap` together.\u001b[39m\u001b[39m\"\u001b[39m\n\u001b[1;32m--> <a href='file:///c%3A/Users/Noman/AppData/Local/Programs/Python/Python310/lib/site-packages/seaborn/axisgrid.py?line=381'>382</a>\u001b[0m     \u001b[39mraise\u001b[39;00m \u001b[39mValueError\u001b[39;00m(err)\n\u001b[0;32m    <a href='file:///c%3A/Users/Noman/AppData/Local/Programs/Python/Python310/lib/site-packages/seaborn/axisgrid.py?line=382'>383</a>\u001b[0m ncol \u001b[39m=\u001b[39m col_wrap\n\u001b[0;32m    <a href='file:///c%3A/Users/Noman/AppData/Local/Programs/Python/Python310/lib/site-packages/seaborn/axisgrid.py?line=383'>384</a>\u001b[0m nrow \u001b[39m=\u001b[39m \u001b[39mint\u001b[39m(np\u001b[39m.\u001b[39mceil(\u001b[39mlen\u001b[39m(col_names) \u001b[39m/\u001b[39m col_wrap))\n",
      "\u001b[1;31mValueError\u001b[0m: Cannot use `row` and `col_wrap` together."
     ]
    }
   ],
   "source": [
    "sns.catplot(data = new_df, x = 'Genre', y = 'Values', row = 'Feature', col_wrap = 2,kind = 'box')"
   ]
  }
 ],
 "metadata": {
  "interpreter": {
   "hash": "d6ab9c43d0ffc6a876efc8f7abb63dfedf6720c760e248878e2dbeb06a287133"
  },
  "kernelspec": {
   "display_name": "Python 3.10.2 64-bit",
   "language": "python",
   "name": "python3"
  },
  "language_info": {
   "codemirror_mode": {
    "name": "ipython",
    "version": 3
   },
   "file_extension": ".py",
   "mimetype": "text/x-python",
   "name": "python",
   "nbconvert_exporter": "python",
   "pygments_lexer": "ipython3",
   "version": "3.10.2"
  },
  "orig_nbformat": 4
 },
 "nbformat": 4,
 "nbformat_minor": 2
}
