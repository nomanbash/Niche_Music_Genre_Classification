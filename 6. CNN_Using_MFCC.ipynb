{
  "cells": [
    {
      "cell_type": "markdown",
      "metadata": {
        "id": "vCrz4S-KsHPQ"
      },
      "source": [
        "# Convolutional Neural Network in Music Classification\n",
        "\n",
        "## Introduction\n",
        "\n",
        "This notebook delineates the process to build a CNN in order to classify the music scraped and downloaded in the `spotify_scraping` notebook. We have already seen how Spotify's pre-extracted features can be used to classify different music genres. However, as we saw, they were not the best at classifying niche music genres in different languages. The custom extracted features such as Zero-Crossing-Rate and Spectroids allowed for better classification of music. However, in some genres, the accuracy grew worse overall as different genres confounded the classification, especially pop.\n",
        "\n",
        "A CNN is one of the most successful machine learning method utilized to predict images. Audio files and signals can be turned into images by extracting their mfccs at different frequencies, thus building a 2-D image that can be fed into CNNs. \n",
        "\n",
        "In this notebook, we will build a CNN in order to classify the previews of all the music we have previously downloaded. The process is \n",
        "\n",
        "1. Preprocessing the dataset to extract the mfccs\n",
        "2. Building a 3-layered CNN with one drop-out in the third layer\n",
        "3. Tuning the hyperparameters `Filters`, `Learning-Rate` and `Epochs` in order to best classify the music genres.\n",
        "4. Running the final model\n",
        "5. Comparing the accuracy."
      ]
    },
    {
      "cell_type": "code",
      "execution_count": 5,
      "metadata": {
        "colab": {
          "base_uri": "https://localhost:8080/"
        },
        "id": "YNUMXcpofgGj",
        "outputId": "eb3517dc-7f15-4e4e-daf3-2ea25daa8583"
      },
      "outputs": [
        {
          "name": "stdout",
          "output_type": "stream",
          "text": [
            "\u001b[?25l\r\u001b[K     |██▌                             | 10 kB 31.8 MB/s eta 0:00:01\r\u001b[K     |█████                           | 20 kB 35.9 MB/s eta 0:00:01\r\u001b[K     |███████▍                        | 30 kB 39.4 MB/s eta 0:00:01\r\u001b[K     |█████████▉                      | 40 kB 36.9 MB/s eta 0:00:01\r\u001b[K     |████████████▎                   | 51 kB 39.8 MB/s eta 0:00:01\r\u001b[K     |██████████████▊                 | 61 kB 44.2 MB/s eta 0:00:01\r\u001b[K     |█████████████████▏              | 71 kB 30.7 MB/s eta 0:00:01\r\u001b[K     |███████████████████▋            | 81 kB 31.8 MB/s eta 0:00:01\r\u001b[K     |██████████████████████          | 92 kB 33.5 MB/s eta 0:00:01\r\u001b[K     |████████████████████████▌       | 102 kB 35.4 MB/s eta 0:00:01\r\u001b[K     |███████████████████████████     | 112 kB 35.4 MB/s eta 0:00:01\r\u001b[K     |█████████████████████████████▍  | 122 kB 35.4 MB/s eta 0:00:01\r\u001b[K     |███████████████████████████████▉| 133 kB 35.4 MB/s eta 0:00:01\r\u001b[K     |████████████████████████████████| 133 kB 35.4 MB/s \n",
            "\u001b[?25h"
          ]
        }
      ],
      "source": [
        "pip install -q -U keras-tuner"
      ]
    },
    {
      "cell_type": "code",
      "execution_count": 72,
      "metadata": {
        "id": "4X-hOjTHK3Hu"
      },
      "outputs": [],
      "source": [
        "import os\n",
        "import json\n",
        "import numpy as np\n",
        "import librosa\n",
        "import matplotlib.pyplot as plt\n",
        "from sklearn.model_selection import train_test_split\n",
        "import tensorflow as tf\n",
        "from tensorflow import keras\n",
        "import keras_tuner as kt\n",
        "import datetime\n",
        "import pandas as pd"
      ]
    },
    {
      "cell_type": "code",
      "execution_count": null,
      "metadata": {
        "id": "muaDe0c5NJWv"
      },
      "outputs": [],
      "source": [
        "%load_ext tensorboard"
      ]
    },
    {
      "cell_type": "code",
      "execution_count": 7,
      "metadata": {
        "colab": {
          "base_uri": "https://localhost:8080/"
        },
        "id": "k7ciXWKcLuqh",
        "outputId": "dfb6c2fb-a63e-441c-ed2c-149ff797108d"
      },
      "outputs": [
        {
          "name": "stdout",
          "output_type": "stream",
          "text": [
            "Mounted at /content/drive\n"
          ]
        }
      ],
      "source": [
        "from google.colab import drive\n",
        "drive.mount('/content/drive')"
      ]
    },
    {
      "cell_type": "markdown",
      "metadata": {
        "id": "RqyEPQVEw5k3"
      },
      "source": [
        "## Defining Sample Rate and Slices\n",
        "\n",
        "In order to extract audio signals from the music files, we'll have to pre-process the data and extract the relevant mfccs. The sample rate determines how many samples are taken per second from a continuous signal to turn it into a digital one. We're using the default 22k rate. The number of slices is how many times we will divide our 30 second audio, and the number of samples per slice is a simple division of the two"
      ]
    },
    {
      "cell_type": "code",
      "execution_count": 8,
      "metadata": {
        "id": "_J3PTI1QK3H4"
      },
      "outputs": [],
      "source": [
        "#Dataset location\n",
        "SOURCE_PATH = 'drive/MyDrive/music/'\n",
        "\n",
        "# Path to labels and processed data file, json format.\n",
        "JSON_PATH = 'drive/MyDrive/data.json'\n",
        "\n",
        "# Sampling rate.\n",
        "sr = 22050\n",
        "\n",
        "# Let's make sure all files have the same amount of samples, pick a duration right under 30 seconds.\n",
        "TOTAL_SAMPLES = 10 * sr\n",
        "\n",
        "# X amount of slices => X times more training examples.\n",
        "NUM_SLICES = 10\n",
        "SAMPLES_PER_SLICE = int(TOTAL_SAMPLES / NUM_SLICES)"
      ]
    },
    {
      "cell_type": "markdown",
      "metadata": {
        "id": "QBSmv8lixaiM"
      },
      "source": [
        "## Preprocessing\n",
        "\n",
        "The function below takes an audio file and uses the librosa library to extract 13 mfccs which is the industry standard. The data will be 3-dimensional i.e. there will be 13 mfccs per sample size so one audio file will have multiple mfccs at every slice. Thus, the data cannot be stores in a `csv` and will be storing it in a `json` format instead."
      ]
    },
    {
      "cell_type": "code",
      "execution_count": null,
      "metadata": {
        "id": "gEpmm2jGK3H6"
      },
      "outputs": [],
      "source": [
        "def preprocess_data(source_path, json_path):\n",
        "\n",
        "    # Let's create a dictionary of labels and processed data.\n",
        "    mydict = {\n",
        "        \"labels\": [],\n",
        "        \"mfcc\": []\n",
        "        }\n",
        "\n",
        "    # Let's browse each file, slice it and generate the 13 band mfcc for each slice.\n",
        "    for i, (dirpath, dirnames, filenames) in enumerate(os.walk(source_path)):\n",
        "\n",
        "        for file in filenames:\n",
        "            song, sr = librosa.load(os.path.join(dirpath, file), duration=29)\n",
        "\n",
        "            for s in range(NUM_SLICES):\n",
        "                start_sample = SAMPLES_PER_SLICE * s\n",
        "                end_sample = start_sample + SAMPLES_PER_SLICE\n",
        "                mfcc = librosa.feature.mfcc(y=song[start_sample:end_sample], sr=sr, n_mfcc=13)\n",
        "                mfcc = mfcc.T\n",
        "                mydict[\"labels\"].append(i-1)\n",
        "                mydict[\"mfcc\"].append(mfcc.tolist())\n",
        "\n",
        "    # Let's write the dictionary in a json file.    \n",
        "    with open(json_path, 'w') as f:\n",
        "        json.dump(mydict, f)\n",
        "    f.close()"
      ]
    },
    {
      "cell_type": "markdown",
      "metadata": {
        "id": "AchAvfjHxvzA"
      },
      "source": [
        "## Loading, Predicting & Plotting Functions\n",
        "\n",
        "To extract the data fromt the `json` file, we've defined a function that automatically separates the labels from the mfccs.\n",
        "\n",
        "In order to plot the validation and training accuracy, we will define a function that plots the performance over epochs.\n",
        "\n",
        "We have also defined a function that allows us to test one single prediction. Since we cannot compare audio files, we will just compare labels."
      ]
    },
    {
      "cell_type": "code",
      "execution_count": 53,
      "metadata": {
        "id": "4e17-s52K3H-"
      },
      "outputs": [],
      "source": [
        "def load_data(json_path):\n",
        "\n",
        "    with open(json_path, 'r') as f:\n",
        "        data = json.load(f)\n",
        "    f.close()\n",
        "\n",
        "    # Let's load our data into numpy arrays for TensorFlow compatibility.\n",
        "    X = np.array(data[\"mfcc\"])\n",
        "    y = np.array(data[\"labels\"])\n",
        "    print(X.shape)\n",
        "\n",
        "    return X, y\n",
        "\n",
        "def plot_performance(hist):\n",
        "    \n",
        "    acc = hist.history['accuracy']\n",
        "    val_acc = hist.history['val_accuracy']\n",
        "    loss = hist.history['loss']\n",
        "    val_loss = hist.history['val_loss']\n",
        "\n",
        "    epochs = range(len(acc))\n",
        "\n",
        "    plt.plot(epochs, acc, 'r', label='Training accuracy')\n",
        "    plt.plot(epochs, val_acc, 'b', label='Validation accuracy')\n",
        "    plt.title('Training and validation accuracy')\n",
        "    plt.legend()\n",
        "    plt.figure()\n",
        "\n",
        "    plt.plot(epochs, loss, 'r', label='Training Loss')\n",
        "    plt.plot(epochs, val_loss, 'b', label='Validation Loss')\n",
        "    plt.title('Training and validation loss')\n",
        "    plt.legend()\n",
        "\n",
        "    plt.show()\n",
        "\n",
        "def make_prediction(model, X, y, idx):\n",
        "    \n",
        "    genre_dict = {\n",
        "        0 : \"Blues\",\n",
        "        1 : \"Classical\",\n",
        "        2 : \"EDM\",\n",
        "        3 : \"Ghazal\",\n",
        "        4 : \"Hip-Hop\",\n",
        "        5 : \"Metal\",\n",
        "        6 : \"Pop\",\n",
        "        7 : \"Qawwali\",\n",
        "        8 : \"Rap\",\n",
        "        9 : \"Rock\",\n",
        "        }\n",
        "        \n",
        "    predictions = model.predict(X)\n",
        "    genre = np.argmax(predictions[idx])\n",
        "    \n",
        "    print(\"\\n---Now testing the model for one audio file---\\nThe model predicts: {}, and ground truth is: {}.\\n\".format(genre_dict[genre], genre_dict[y[idx]]))"
      ]
    },
    {
      "cell_type": "markdown",
      "metadata": {
        "id": "gcDeZHq1x9fI"
      },
      "source": [
        "The cell below preprocesses the approximately 3000 songs and extracts the relevant data from them. This is a time-consuming process, therefore it is recommended to use the data.json file instead."
      ]
    },
    {
      "cell_type": "code",
      "execution_count": null,
      "metadata": {
        "id": "_zKiXrvZoh3_"
      },
      "outputs": [],
      "source": [
        "preprocess_data(source_path=SOURCE_PATH, json_path=JSON_PATH)"
      ]
    },
    {
      "cell_type": "markdown",
      "metadata": {
        "id": "YRfsTcF1yWvF"
      },
      "source": [
        "## Hyperparameter Tuning\n",
        "\n",
        "The next few code sections create a 3-layer CNN with one final dense layer and a flattening layer. The hyperparamters to be tuned are the `filters`, `epochs` and `learning-rate`. We will be using the `Adam` algorithm to calculate gradient descent"
      ]
    },
    {
      "cell_type": "code",
      "execution_count": 42,
      "metadata": {
        "id": "iqJ-4RMZerex"
      },
      "outputs": [],
      "source": [
        "def model_builder(hp):\n",
        "  model = keras.Sequential()\n",
        "  # Tune the number of units in the first Conv layer\n",
        "  # Choose an optimal value between 32-512\n",
        "  hp_units = hp.Int('filters', min_value=32, max_value=512, step=32)\n",
        "  model.add(tf.keras.layers.Conv2D(filters=hp_units, kernel_size = (3,3), activation='relu', input_shape = (inputs_train.shape[1], inputs_train.shape[2], 1)))\n",
        "  model.add(tf.keras.layers.MaxPooling2D((3,3), strides=(2,2), padding='same'))\n",
        "  model.add(tf.keras.layers.BatchNormalization())\n",
        "\n",
        "  model.add(tf.keras.layers.Conv2D(filters=hp_units,kernel_size = (3,3),activation='relu'))\n",
        "  model.add(tf.keras.layers.MaxPooling2D((3,3), strides=(2,2), padding='same'))\n",
        "  model.add(tf.keras.layers.BatchNormalization())\n",
        "  \n",
        "  hp_dropout = hp.Int\n",
        "  model.add(tf.keras.layers.Conv2D(filters = hp_units,kernel_size = (2,2),activation='relu'))\n",
        "  model.add(tf.keras.layers.MaxPooling2D((3,3), strides=(2,2), padding='same'))\n",
        "  model.add(tf.keras.layers.BatchNormalization())\n",
        "  model.add(tf.keras.layers.Dropout(0.3))\n",
        "\n",
        "  # Tune the learning rate for the optimizer\n",
        "  # Choose an optimal value from 0.01, 0.001, or 0.0001\n",
        "  hp_learning_rate = hp.Choice('learning_rate', values=[1e-2, 1e-3, 1e-4])\n",
        "\n",
        "  model.add(tf.keras.layers.Flatten())\n",
        "  model.add(tf.keras.layers.Dense(64, activation='relu'))\n",
        "  model.add(tf.keras.layers.Dense(len(np.unique(targets)), activation='softmax'))\n",
        "\n",
        "  model.compile(optimizer=keras.optimizers.Adam(learning_rate=hp_learning_rate),\n",
        "                loss='sparse_categorical_crossentropy',\n",
        "                metrics=['accuracy'])\n",
        "  return model"
      ]
    },
    {
      "cell_type": "code",
      "execution_count": 43,
      "metadata": {
        "colab": {
          "base_uri": "https://localhost:8080/"
        },
        "id": "tzDWE8s3f-wY",
        "outputId": "f78d2167-4682-4fc6-f2c4-16561c00e3a7"
      },
      "outputs": [
        {
          "name": "stdout",
          "output_type": "stream",
          "text": [
            "(38140, 44, 13)\n"
          ]
        }
      ],
      "source": [
        "inputs, targets = load_data(json_path=JSON_PATH)\n",
        "X_train, X_test, y_train, y_test = train_test_split(inputs, targets, test_size=0.2)\n",
        "input_shape = (X_train.shape[1], X_train.shape[2], 1)"
      ]
    },
    {
      "cell_type": "code",
      "execution_count": 44,
      "metadata": {
        "id": "OtsiLkuRYnG4"
      },
      "outputs": [],
      "source": [
        "tuner = kt.Hyperband(model_builder,\n",
        "                     objective='val_accuracy',\n",
        "                     max_epochs=10,\n",
        "                     factor=3,\n",
        "                     directory='drive/MyDrive/my_dir',\n",
        "                     project_name='intro_to_kt')\n",
        "\n",
        "stop_early = tf.keras.callbacks.EarlyStopping(monitor='val_loss', patience=5)\n"
      ]
    },
    {
      "cell_type": "code",
      "execution_count": 45,
      "metadata": {
        "colab": {
          "base_uri": "https://localhost:8080/"
        },
        "id": "X4yPSBAHYsUb",
        "outputId": "52c147f6-41d6-4709-cef8-285ab93c8a99"
      },
      "outputs": [
        {
          "name": "stdout",
          "output_type": "stream",
          "text": [
            "Trial 30 Complete [00h 00m 41s]\n",
            "val_accuracy: 0.5281009078025818\n",
            "\n",
            "Best val_accuracy So Far: 0.6128133535385132\n",
            "Total elapsed time: 00h 17m 10s\n",
            "INFO:tensorflow:Oracle triggered exit\n"
          ]
        },
        {
          "name": "stderr",
          "output_type": "stream",
          "text": [
            "INFO:tensorflow:Oracle triggered exit\n"
          ]
        },
        {
          "name": "stdout",
          "output_type": "stream",
          "text": [
            "\n",
            "The hyperparameter search is complete. The optimal number of units in the first densely-connected\n",
            "layer is 384 and the optimal learning rate for the optimizer\n",
            "is 0.0001.\n",
            "\n"
          ]
        }
      ],
      "source": [
        "tuner.search(X_train, y_train, epochs=50, validation_split=0.2, callbacks=[stop_early])\n",
        "\n",
        "best_hps=tuner.get_best_hyperparameters(num_trials=1)[0]\n",
        "\n",
        "print(f\"\"\"\n",
        "The hyperparameter search is complete. The optimal number of units in the first densely-connected\n",
        "layer is {best_hps.get('filters')} and the optimal learning rate for the optimizer\n",
        "is {best_hps.get('learning_rate')}.\n",
        "\"\"\")"
      ]
    },
    {
      "cell_type": "code",
      "execution_count": 46,
      "metadata": {
        "colab": {
          "base_uri": "https://localhost:8080/"
        },
        "id": "ykOxnLRQnaHt",
        "outputId": "c553d1ec-16b1-4c8f-8e11-a9096f74223e"
      },
      "outputs": [
        {
          "name": "stdout",
          "output_type": "stream",
          "text": [
            "Epoch 1/50\n",
            "763/763 [==============================] - 10s 12ms/step - loss: 1.5119 - accuracy: 0.4573 - val_loss: 1.2227 - val_accuracy: 0.5286\n",
            "Epoch 2/50\n",
            "763/763 [==============================] - 8s 11ms/step - loss: 1.2675 - accuracy: 0.5182 - val_loss: 1.1226 - val_accuracy: 0.5633\n",
            "Epoch 3/50\n",
            "763/763 [==============================] - 9s 12ms/step - loss: 1.1886 - accuracy: 0.5426 - val_loss: 1.0958 - val_accuracy: 0.5632\n",
            "Epoch 4/50\n",
            "763/763 [==============================] - 9s 12ms/step - loss: 1.1192 - accuracy: 0.5637 - val_loss: 1.1223 - val_accuracy: 0.5532\n",
            "Epoch 5/50\n",
            "763/763 [==============================] - 8s 11ms/step - loss: 1.0613 - accuracy: 0.5819 - val_loss: 1.0420 - val_accuracy: 0.5832\n",
            "Epoch 6/50\n",
            "763/763 [==============================] - 9s 12ms/step - loss: 1.0179 - accuracy: 0.5970 - val_loss: 1.0430 - val_accuracy: 0.5902\n",
            "Epoch 7/50\n",
            "763/763 [==============================] - 8s 11ms/step - loss: 0.9587 - accuracy: 0.6208 - val_loss: 1.0177 - val_accuracy: 0.5915\n",
            "Epoch 8/50\n",
            "763/763 [==============================] - 8s 11ms/step - loss: 0.9258 - accuracy: 0.6353 - val_loss: 1.0523 - val_accuracy: 0.5866\n",
            "Epoch 9/50\n",
            "763/763 [==============================] - 9s 12ms/step - loss: 0.8782 - accuracy: 0.6497 - val_loss: 1.0082 - val_accuracy: 0.6000\n",
            "Epoch 10/50\n",
            "763/763 [==============================] - 9s 12ms/step - loss: 0.8371 - accuracy: 0.6677 - val_loss: 0.9926 - val_accuracy: 0.6184\n",
            "Epoch 11/50\n",
            "763/763 [==============================] - 9s 12ms/step - loss: 0.7942 - accuracy: 0.6849 - val_loss: 0.9900 - val_accuracy: 0.6136\n",
            "Epoch 12/50\n",
            "763/763 [==============================] - 8s 11ms/step - loss: 0.7590 - accuracy: 0.6965 - val_loss: 1.0112 - val_accuracy: 0.6081\n",
            "Epoch 13/50\n",
            "763/763 [==============================] - 8s 11ms/step - loss: 0.7193 - accuracy: 0.7153 - val_loss: 1.0402 - val_accuracy: 0.6054\n",
            "Epoch 14/50\n",
            "763/763 [==============================] - 9s 12ms/step - loss: 0.6941 - accuracy: 0.7223 - val_loss: 0.9685 - val_accuracy: 0.6204\n",
            "Epoch 15/50\n",
            "763/763 [==============================] - 9s 12ms/step - loss: 0.6593 - accuracy: 0.7385 - val_loss: 1.0058 - val_accuracy: 0.6238\n",
            "Epoch 16/50\n",
            "763/763 [==============================] - 8s 11ms/step - loss: 0.6364 - accuracy: 0.7467 - val_loss: 1.0138 - val_accuracy: 0.6233\n",
            "Epoch 17/50\n",
            "763/763 [==============================] - 8s 11ms/step - loss: 0.6147 - accuracy: 0.7544 - val_loss: 1.0306 - val_accuracy: 0.6254\n",
            "Epoch 18/50\n",
            "763/763 [==============================] - 9s 12ms/step - loss: 0.5935 - accuracy: 0.7612 - val_loss: 1.0123 - val_accuracy: 0.6290\n",
            "Epoch 19/50\n",
            "763/763 [==============================] - 9s 12ms/step - loss: 0.5747 - accuracy: 0.7702 - val_loss: 1.0234 - val_accuracy: 0.6241\n",
            "Epoch 20/50\n",
            "763/763 [==============================] - 8s 11ms/step - loss: 0.5606 - accuracy: 0.7752 - val_loss: 1.0527 - val_accuracy: 0.6146\n",
            "Epoch 21/50\n",
            "763/763 [==============================] - 9s 12ms/step - loss: 0.5470 - accuracy: 0.7776 - val_loss: 1.0307 - val_accuracy: 0.6351\n",
            "Epoch 22/50\n",
            "763/763 [==============================] - 10s 12ms/step - loss: 0.5282 - accuracy: 0.7849 - val_loss: 1.0248 - val_accuracy: 0.6343\n",
            "Epoch 23/50\n",
            "763/763 [==============================] - 9s 12ms/step - loss: 0.5166 - accuracy: 0.7906 - val_loss: 1.0287 - val_accuracy: 0.6362\n",
            "Epoch 24/50\n",
            "763/763 [==============================] - 9s 12ms/step - loss: 0.5125 - accuracy: 0.7908 - val_loss: 1.0603 - val_accuracy: 0.6225\n",
            "Epoch 25/50\n",
            "763/763 [==============================] - 8s 11ms/step - loss: 0.4987 - accuracy: 0.7967 - val_loss: 1.0813 - val_accuracy: 0.6346\n",
            "Epoch 26/50\n",
            "763/763 [==============================] - 8s 11ms/step - loss: 0.4931 - accuracy: 0.7975 - val_loss: 1.0636 - val_accuracy: 0.6264\n",
            "Epoch 27/50\n",
            "763/763 [==============================] - 9s 12ms/step - loss: 0.4780 - accuracy: 0.8032 - val_loss: 1.0621 - val_accuracy: 0.6400\n",
            "Epoch 28/50\n",
            "763/763 [==============================] - 9s 12ms/step - loss: 0.4741 - accuracy: 0.8024 - val_loss: 1.0359 - val_accuracy: 0.6379\n",
            "Epoch 29/50\n",
            "763/763 [==============================] - 9s 12ms/step - loss: 0.4627 - accuracy: 0.8083 - val_loss: 1.0792 - val_accuracy: 0.6351\n",
            "Epoch 30/50\n",
            "763/763 [==============================] - 8s 11ms/step - loss: 0.4559 - accuracy: 0.8102 - val_loss: 1.0649 - val_accuracy: 0.6387\n",
            "Epoch 31/50\n",
            "763/763 [==============================] - 8s 11ms/step - loss: 0.4503 - accuracy: 0.8131 - val_loss: 1.0833 - val_accuracy: 0.6294\n",
            "Epoch 32/50\n",
            "763/763 [==============================] - 8s 11ms/step - loss: 0.4470 - accuracy: 0.8143 - val_loss: 1.0908 - val_accuracy: 0.6320\n",
            "Epoch 33/50\n",
            "763/763 [==============================] - 8s 11ms/step - loss: 0.4434 - accuracy: 0.8131 - val_loss: 1.1187 - val_accuracy: 0.6338\n",
            "Epoch 34/50\n",
            "763/763 [==============================] - 9s 12ms/step - loss: 0.4364 - accuracy: 0.8164 - val_loss: 1.0848 - val_accuracy: 0.6412\n",
            "Epoch 35/50\n",
            "763/763 [==============================] - 8s 11ms/step - loss: 0.4301 - accuracy: 0.8198 - val_loss: 1.1053 - val_accuracy: 0.6348\n",
            "Epoch 36/50\n",
            "763/763 [==============================] - 9s 12ms/step - loss: 0.4340 - accuracy: 0.8177 - val_loss: 1.0705 - val_accuracy: 0.6405\n",
            "Epoch 37/50\n",
            "763/763 [==============================] - 8s 11ms/step - loss: 0.4201 - accuracy: 0.8204 - val_loss: 1.1008 - val_accuracy: 0.6382\n",
            "Epoch 38/50\n",
            "763/763 [==============================] - 8s 11ms/step - loss: 0.4239 - accuracy: 0.8190 - val_loss: 1.1232 - val_accuracy: 0.6359\n",
            "Epoch 39/50\n",
            "763/763 [==============================] - 9s 11ms/step - loss: 0.4161 - accuracy: 0.8202 - val_loss: 1.1123 - val_accuracy: 0.6341\n",
            "Epoch 40/50\n",
            "763/763 [==============================] - 8s 11ms/step - loss: 0.4136 - accuracy: 0.8246 - val_loss: 1.1566 - val_accuracy: 0.6367\n",
            "Epoch 41/50\n",
            "763/763 [==============================] - 8s 11ms/step - loss: 0.4125 - accuracy: 0.8224 - val_loss: 1.0897 - val_accuracy: 0.6398\n",
            "Epoch 42/50\n",
            "763/763 [==============================] - 8s 11ms/step - loss: 0.4073 - accuracy: 0.8245 - val_loss: 1.1412 - val_accuracy: 0.6259\n",
            "Epoch 43/50\n",
            "763/763 [==============================] - 8s 11ms/step - loss: 0.4046 - accuracy: 0.8240 - val_loss: 1.1338 - val_accuracy: 0.6318\n",
            "Epoch 44/50\n",
            "763/763 [==============================] - 9s 12ms/step - loss: 0.3999 - accuracy: 0.8266 - val_loss: 1.1379 - val_accuracy: 0.6356\n",
            "Epoch 45/50\n",
            "763/763 [==============================] - 9s 12ms/step - loss: 0.4010 - accuracy: 0.8241 - val_loss: 1.1507 - val_accuracy: 0.6367\n",
            "Epoch 46/50\n",
            "763/763 [==============================] - 9s 12ms/step - loss: 0.3959 - accuracy: 0.8263 - val_loss: 1.1399 - val_accuracy: 0.6385\n",
            "Epoch 47/50\n",
            "763/763 [==============================] - 9s 12ms/step - loss: 0.3937 - accuracy: 0.8283 - val_loss: 1.1344 - val_accuracy: 0.6308\n",
            "Epoch 48/50\n",
            "763/763 [==============================] - 8s 11ms/step - loss: 0.3890 - accuracy: 0.8288 - val_loss: 1.1706 - val_accuracy: 0.6333\n",
            "Epoch 49/50\n",
            "763/763 [==============================] - 9s 12ms/step - loss: 0.3898 - accuracy: 0.8274 - val_loss: 1.1526 - val_accuracy: 0.6359\n",
            "Epoch 50/50\n",
            "763/763 [==============================] - 9s 12ms/step - loss: 0.3884 - accuracy: 0.8266 - val_loss: 1.1236 - val_accuracy: 0.6426\n",
            "Best epoch: 50\n"
          ]
        }
      ],
      "source": [
        "# Build the model with the optimal hyperparameters and train it on the data for 50 epochs\n",
        "model = tuner.hypermodel.build(best_hps)\n",
        "history = model.fit(X_train, y_train, epochs=50, validation_split=0.2)\n",
        "\n",
        "val_acc_per_epoch = history.history['val_accuracy']\n",
        "best_epoch = val_acc_per_epoch.index(max(val_acc_per_epoch)) + 1\n",
        "print('Best epoch: %d' % (best_epoch,))"
      ]
    },
    {
      "cell_type": "code",
      "execution_count": 54,
      "metadata": {
        "colab": {
          "base_uri": "https://localhost:8080/",
          "height": 545
        },
        "id": "mxnecVjgvIVM",
        "outputId": "365591c3-29cd-422e-c772-3c15cf359a80"
      },
      "outputs": [
        {
          "data": {
            "image/png": "[encoded data removed]",
            "text/plain": [
              "<Figure size 432x288 with 1 Axes>"
            ]
          },
          "metadata": {
            "needs_background": "light"
          },
          "output_type": "display_data"
        },
        {
          "data": {
            "image/png": "[encoded data removed]",
            "text/plain": [
              "<Figure size 432x288 with 1 Axes>"
            ]
          },
          "metadata": {
            "needs_background": "light"
          },
          "output_type": "display_data"
        }
      ],
      "source": [
        "plot_performance(history)"
      ]
    },
    {
      "cell_type": "code",
      "execution_count": null,
      "metadata": {
        "id": "VgdrwfpfystL"
      },
      "outputs": [],
      "source": [
        "log_dir = \"drive/MyDrive/logs/fit/\" + datetime.datetime.now().strftime(\"%Y%m%d-%H%M%S\")\n",
        "tensorboard_callback = tf.keras.callbacks.TensorBoard(log_dir=log_dir, histogram_freq=1)"
      ]
    },
    {
      "cell_type": "code",
      "execution_count": 56,
      "metadata": {
        "colab": {
          "base_uri": "https://localhost:8080/"
        },
        "id": "lL1PZGAXofVS",
        "outputId": "8be7436c-82d8-4786-a4ce-8ac68795d65b"
      },
      "outputs": [
        {
          "name": "stdout",
          "output_type": "stream",
          "text": [
            "Epoch 1/50\n",
            "763/763 [==============================] - 10s 12ms/step - loss: 1.4799 - accuracy: 0.4638 - val_loss: 1.2226 - val_accuracy: 0.5266\n",
            "Epoch 2/50\n",
            "763/763 [==============================] - 9s 11ms/step - loss: 1.2665 - accuracy: 0.5141 - val_loss: 1.1525 - val_accuracy: 0.5428\n",
            "Epoch 3/50\n",
            "763/763 [==============================] - 8s 11ms/step - loss: 1.1842 - accuracy: 0.5382 - val_loss: 1.1501 - val_accuracy: 0.5445\n",
            "Epoch 4/50\n",
            "763/763 [==============================] - 8s 11ms/step - loss: 1.1257 - accuracy: 0.5596 - val_loss: 1.1237 - val_accuracy: 0.5579\n",
            "Epoch 5/50\n",
            "763/763 [==============================] - 9s 12ms/step - loss: 1.0704 - accuracy: 0.5761 - val_loss: 1.0618 - val_accuracy: 0.5814\n",
            "Epoch 6/50\n",
            "763/763 [==============================] - 8s 11ms/step - loss: 1.0213 - accuracy: 0.5939 - val_loss: 1.0178 - val_accuracy: 0.5935\n",
            "Epoch 7/50\n",
            "763/763 [==============================] - 9s 12ms/step - loss: 0.9673 - accuracy: 0.6183 - val_loss: 1.0527 - val_accuracy: 0.5764\n",
            "Epoch 8/50\n",
            "763/763 [==============================] - 8s 11ms/step - loss: 0.9178 - accuracy: 0.6357 - val_loss: 1.0225 - val_accuracy: 0.5927\n",
            "Epoch 9/50\n",
            "763/763 [==============================] - 9s 12ms/step - loss: 0.8739 - accuracy: 0.6543 - val_loss: 1.0225 - val_accuracy: 0.5950\n",
            "Epoch 10/50\n",
            "763/763 [==============================] - 8s 11ms/step - loss: 0.8445 - accuracy: 0.6646 - val_loss: 0.9954 - val_accuracy: 0.6054\n",
            "Epoch 11/50\n",
            "763/763 [==============================] - 8s 11ms/step - loss: 0.7975 - accuracy: 0.6857 - val_loss: 0.9727 - val_accuracy: 0.6123\n",
            "Epoch 12/50\n",
            "763/763 [==============================] - 9s 12ms/step - loss: 0.7601 - accuracy: 0.6997 - val_loss: 0.9722 - val_accuracy: 0.6174\n",
            "Epoch 13/50\n",
            "763/763 [==============================] - 8s 11ms/step - loss: 0.7239 - accuracy: 0.7129 - val_loss: 1.0177 - val_accuracy: 0.6072\n",
            "Epoch 14/50\n",
            "763/763 [==============================] - 9s 12ms/step - loss: 0.6952 - accuracy: 0.7224 - val_loss: 0.9661 - val_accuracy: 0.6267\n",
            "Epoch 15/50\n",
            "763/763 [==============================] - 8s 11ms/step - loss: 0.6664 - accuracy: 0.7316 - val_loss: 0.9871 - val_accuracy: 0.6240\n",
            "Epoch 16/50\n",
            "763/763 [==============================] - 9s 12ms/step - loss: 0.6387 - accuracy: 0.7444 - val_loss: 0.9921 - val_accuracy: 0.6241\n",
            "Epoch 17/50\n",
            "763/763 [==============================] - 8s 11ms/step - loss: 0.6136 - accuracy: 0.7532 - val_loss: 0.9722 - val_accuracy: 0.6267\n",
            "Epoch 18/50\n",
            "763/763 [==============================] - 9s 12ms/step - loss: 0.5972 - accuracy: 0.7594 - val_loss: 1.0242 - val_accuracy: 0.6140\n",
            "Epoch 19/50\n",
            "763/763 [==============================] - 8s 11ms/step - loss: 0.5769 - accuracy: 0.7672 - val_loss: 0.9889 - val_accuracy: 0.6290\n",
            "Epoch 20/50\n",
            "763/763 [==============================] - 9s 12ms/step - loss: 0.5631 - accuracy: 0.7733 - val_loss: 1.0608 - val_accuracy: 0.6143\n",
            "Epoch 21/50\n",
            "763/763 [==============================] - 8s 11ms/step - loss: 0.5449 - accuracy: 0.7776 - val_loss: 1.0227 - val_accuracy: 0.6317\n",
            "Epoch 22/50\n",
            "763/763 [==============================] - 8s 11ms/step - loss: 0.5269 - accuracy: 0.7866 - val_loss: 1.0681 - val_accuracy: 0.6318\n",
            "Epoch 23/50\n",
            "763/763 [==============================] - 9s 12ms/step - loss: 0.5242 - accuracy: 0.7870 - val_loss: 1.0538 - val_accuracy: 0.6320\n",
            "Epoch 24/50\n",
            "763/763 [==============================] - 8s 11ms/step - loss: 0.5092 - accuracy: 0.7915 - val_loss: 1.0362 - val_accuracy: 0.6267\n",
            "Epoch 25/50\n",
            "763/763 [==============================] - 8s 11ms/step - loss: 0.4908 - accuracy: 0.7971 - val_loss: 1.0413 - val_accuracy: 0.6233\n",
            "Epoch 26/50\n",
            "763/763 [==============================] - 9s 12ms/step - loss: 0.4888 - accuracy: 0.7955 - val_loss: 1.0508 - val_accuracy: 0.6231\n",
            "Epoch 27/50\n",
            "763/763 [==============================] - 9s 12ms/step - loss: 0.4752 - accuracy: 0.8024 - val_loss: 1.0534 - val_accuracy: 0.6282\n",
            "Epoch 28/50\n",
            "763/763 [==============================] - 9s 12ms/step - loss: 0.4684 - accuracy: 0.8074 - val_loss: 1.0528 - val_accuracy: 0.6356\n",
            "Epoch 29/50\n",
            "763/763 [==============================] - 9s 12ms/step - loss: 0.4638 - accuracy: 0.8066 - val_loss: 1.0697 - val_accuracy: 0.6341\n",
            "Epoch 30/50\n",
            "763/763 [==============================] - 9s 12ms/step - loss: 0.4569 - accuracy: 0.8088 - val_loss: 1.0849 - val_accuracy: 0.6323\n",
            "Epoch 31/50\n",
            "763/763 [==============================] - 8s 11ms/step - loss: 0.4472 - accuracy: 0.8119 - val_loss: 1.0875 - val_accuracy: 0.6264\n",
            "Epoch 32/50\n",
            "763/763 [==============================] - 9s 12ms/step - loss: 0.4480 - accuracy: 0.8116 - val_loss: 1.1370 - val_accuracy: 0.6261\n",
            "Epoch 33/50\n",
            "763/763 [==============================] - 9s 12ms/step - loss: 0.4416 - accuracy: 0.8133 - val_loss: 1.0803 - val_accuracy: 0.6348\n",
            "Epoch 34/50\n",
            "763/763 [==============================] - 8s 11ms/step - loss: 0.4284 - accuracy: 0.8183 - val_loss: 1.1076 - val_accuracy: 0.6300\n",
            "Epoch 35/50\n",
            "763/763 [==============================] - 10s 13ms/step - loss: 0.4279 - accuracy: 0.8157 - val_loss: 1.1264 - val_accuracy: 0.6230\n",
            "Epoch 36/50\n",
            "763/763 [==============================] - 8s 11ms/step - loss: 0.4281 - accuracy: 0.8177 - val_loss: 1.1094 - val_accuracy: 0.6331\n",
            "Epoch 37/50\n",
            "763/763 [==============================] - 10s 13ms/step - loss: 0.4167 - accuracy: 0.8196 - val_loss: 1.0953 - val_accuracy: 0.6353\n",
            "Epoch 38/50\n",
            "763/763 [==============================] - 8s 11ms/step - loss: 0.4217 - accuracy: 0.8192 - val_loss: 1.1195 - val_accuracy: 0.6331\n",
            "Epoch 39/50\n",
            "763/763 [==============================] - 8s 11ms/step - loss: 0.4108 - accuracy: 0.8235 - val_loss: 1.1084 - val_accuracy: 0.6284\n",
            "Epoch 40/50\n",
            "763/763 [==============================] - 8s 11ms/step - loss: 0.4076 - accuracy: 0.8230 - val_loss: 1.1176 - val_accuracy: 0.6344\n",
            "Epoch 41/50\n",
            "763/763 [==============================] - 9s 11ms/step - loss: 0.4061 - accuracy: 0.8236 - val_loss: 1.1300 - val_accuracy: 0.6389\n",
            "Epoch 42/50\n",
            "763/763 [==============================] - 9s 12ms/step - loss: 0.4105 - accuracy: 0.8191 - val_loss: 1.1505 - val_accuracy: 0.6274\n",
            "Epoch 43/50\n",
            "763/763 [==============================] - 9s 12ms/step - loss: 0.4016 - accuracy: 0.8257 - val_loss: 1.1708 - val_accuracy: 0.6338\n",
            "Epoch 44/50\n",
            "763/763 [==============================] - 10s 13ms/step - loss: 0.4022 - accuracy: 0.8246 - val_loss: 1.1226 - val_accuracy: 0.6353\n",
            "Epoch 45/50\n",
            "763/763 [==============================] - 9s 12ms/step - loss: 0.3974 - accuracy: 0.8253 - val_loss: 1.1618 - val_accuracy: 0.6300\n",
            "Epoch 46/50\n",
            "763/763 [==============================] - 9s 12ms/step - loss: 0.3918 - accuracy: 0.8242 - val_loss: 1.1573 - val_accuracy: 0.6312\n",
            "Epoch 47/50\n",
            "763/763 [==============================] - 8s 11ms/step - loss: 0.3882 - accuracy: 0.8288 - val_loss: 1.1583 - val_accuracy: 0.6330\n",
            "Epoch 48/50\n",
            "763/763 [==============================] - 8s 11ms/step - loss: 0.3877 - accuracy: 0.8278 - val_loss: 1.1834 - val_accuracy: 0.6358\n",
            "Epoch 49/50\n",
            "763/763 [==============================] - 8s 11ms/step - loss: 0.3837 - accuracy: 0.8292 - val_loss: 1.1499 - val_accuracy: 0.6207\n",
            "Epoch 50/50\n",
            "763/763 [==============================] - 9s 12ms/step - loss: 0.3821 - accuracy: 0.8269 - val_loss: 1.1667 - val_accuracy: 0.6389\n"
          ]
        },
        {
          "data": {
            "text/plain": [
              "<keras.callbacks.History at 0x7f08c4946a50>"
            ]
          },
          "execution_count": 56,
          "metadata": {},
          "output_type": "execute_result"
        }
      ],
      "source": [
        "hypermodel = tuner.hypermodel.build(best_hps)\n",
        "\n",
        "# Retrain the model\n",
        "hypermodel.fit(X_train, y_train, epochs=best_epoch, validation_split=0.2, callback = [tensorboard_callback])"
      ]
    },
    {
      "cell_type": "code",
      "execution_count": 63,
      "metadata": {
        "id": "5S2CXtcOK3ID"
      },
      "outputs": [],
      "source": [
        "hypermodel.summary()"
      ]
    },
    {
      "cell_type": "code",
      "execution_count": 57,
      "metadata": {
        "colab": {
          "base_uri": "https://localhost:8080/"
        },
        "id": "DV9lvejSojq7",
        "outputId": "44da4063-ba89-487a-bd86-bd9db5a9aaab"
      },
      "outputs": [
        {
          "name": "stdout",
          "output_type": "stream",
          "text": [
            "239/239 [==============================] - 1s 5ms/step - loss: 1.2055 - accuracy: 0.6253\n",
            "[test loss, test accuracy]: [1.2054636478424072, 0.6253277659416199]\n"
          ]
        }
      ],
      "source": [
        "eval_result = hypermodel.evaluate(X_test, y_test)\n",
        "print(\"[test loss, test accuracy]:\", eval_result)"
      ]
    },
    {
      "cell_type": "code",
      "execution_count": null,
      "metadata": {
        "colab": {
          "base_uri": "https://localhost:8080/"
        },
        "id": "odne31BRNKM5",
        "outputId": "714a8189-4705-48f6-db51-da795445a366"
      },
      "outputs": [
        {
          "name": "stderr",
          "output_type": "stream",
          "text": [
            "UsageError: Line magic function `%tensorboard` not found.\n"
          ]
        }
      ],
      "source": [
        "%tensorboard --logdir logs/fit"
      ]
    },
    {
      "cell_type": "code",
      "execution_count": 76,
      "metadata": {
        "id": "e7npb01r1zgB"
      },
      "outputs": [],
      "source": [
        " genre_dict = [\n",
        "        \"Blues\",\n",
        "        \"Classical\",\n",
        "        \"EDM\",\n",
        "        \"Ghazal\",\n",
        "        \"Hip-Hop\",\n",
        "        \"Metal\",\n",
        "        \"Pop\",\n",
        "        \"Qawwali\",\n",
        "        \"Rap\",\n",
        "        \"Rock\",\n",
        "        ]"
      ]
    },
    {
      "cell_type": "code",
      "execution_count": 70,
      "metadata": {
        "id": "HcIMFuI1zvIp"
      },
      "outputs": [],
      "source": [
        "y_pred = model.predict(X_test)\n",
        "con_mat = tf.math.confusion_matrix(labels=y_test, predictions= np.argmax(y_pred, axis = 1)).numpy()"
      ]
    },
    {
      "cell_type": "code",
      "execution_count": 77,
      "metadata": {
        "id": "4KgSVvGnzwaP"
      },
      "outputs": [],
      "source": [
        "con_mat_norm = np.around(con_mat.astype('float') / con_mat.sum(axis=1)[:, np.newaxis], decimals=2)\n",
        "\n",
        "con_mat_df = pd.DataFrame(con_mat_norm,\n",
        "                     index = genre_dict, \n",
        "                     columns = genre_dict)"
      ]
    },
    {
      "cell_type": "code",
      "execution_count": 79,
      "metadata": {
        "colab": {
          "base_uri": "https://localhost:8080/",
          "height": 599
        },
        "id": "n-_elGjdzwg0",
        "outputId": "72a1c5b0-247d-4187-856f-077809cd7a48"
      },
      "outputs": [
        {
          "data": {
            "image/png": "[encoded data removed]",
            "text/plain": [
              "<Figure size 576x576 with 2 Axes>"
            ]
          },
          "metadata": {
            "needs_background": "light"
          },
          "output_type": "display_data"
        }
      ],
      "source": [
        "import seaborn as sns\n",
        "figure = plt.figure(figsize=(8, 8))\n",
        "sns.heatmap(con_mat_df, annot=True,cmap=plt.cm.Blues)\n",
        "plt.tight_layout()\n",
        "plt.ylabel('True label')\n",
        "plt.xlabel('Predicted label')\n",
        "plt.show()"
      ]
    },
    {
      "cell_type": "markdown",
      "metadata": {},
      "source": [
        "Overall, you can see an improvement in the predictive capability using CNN. Qawwali and Ghazal are predicted with far greater accuracy even if other genres are being confounded due to their inherent similarity."
      ]
    }
  ],
  "metadata": {
    "accelerator": "GPU",
    "colab": {
      "collapsed_sections": [],
      "name": "CNN Prediction Using Spectograms.ipynb",
      "provenance": []
    },
    "interpreter": {
      "hash": "d6ab9c43d0ffc6a876efc8f7abb63dfedf6720c760e248878e2dbeb06a287133"
    },
    "kernelspec": {
      "display_name": "Python 3.10.2 64-bit",
      "language": "python",
      "name": "python3"
    },
    "language_info": {
      "codemirror_mode": {
        "name": "ipython",
        "version": 3
      },
      "file_extension": ".py",
      "mimetype": "text/x-python",
      "name": "python",
      "nbconvert_exporter": "python",
      "pygments_lexer": "ipython3",
      "version": "3.10.2"
    },
    "orig_nbformat": 4
  },
  "nbformat": 4,
  "nbformat_minor": 0
}
