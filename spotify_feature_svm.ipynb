{
 "cells": [
  {
   "cell_type": "code",
   "execution_count": 1,
   "metadata": {},
   "outputs": [],
   "source": [
    "import numpy as np\n",
    "import pandas as pd\n",
    "from sklearn.model_selection import train_test_split\n",
    "from sklearn.preprocessing import StandardScaler\n",
    "from sklearn.svm import SVC\n",
    "from sklearn.metrics import confusion_matrix, precision_score, recall_score, f1_score,accuracy_score"
   ]
  },
  {
   "cell_type": "code",
   "execution_count": 2,
   "metadata": {},
   "outputs": [],
   "source": [
    "music = pd.read_csv('subsampled.csv')"
   ]
  },
  {
   "cell_type": "code",
   "execution_count": 5,
   "metadata": {},
   "outputs": [
    {
     "data": {
      "text/plain": [
       "array(['Blues', 'Classical', 'EDM', 'Ghazal', 'Hip-Hop', 'Metal', 'Pop',\n",
       "       'Qawwali', 'Rap', 'Rock'], dtype=object)"
      ]
     },
     "execution_count": 5,
     "metadata": {},
     "output_type": "execute_result"
    }
   ],
   "source": [
    "music['Genre'].unique()"
   ]
  },
  {
   "cell_type": "code",
   "execution_count": 26,
   "metadata": {},
   "outputs": [
    {
     "name": "stdout",
     "output_type": "stream",
     "text": [
      "Confusion Matrix:\n",
      " [[ 3  2  2  2  0  0  1  1  5  1]\n",
      " [ 0 12  0  1  0  0  0  0  0  0]\n",
      " [ 2  0 11  0  0  2  0  1  1  1]\n",
      " [ 2  2  2 10  0  0  1  4  1  3]\n",
      " [ 4  0  4  1  0  1  1  1  5  0]\n",
      " [ 1  0  1  0  0  9  0  1  0  4]\n",
      " [ 3  0  6  1  0  2  0  2  2  0]\n",
      " [ 1  2  5  2  1  1  1  5  1  2]\n",
      " [ 1  2  1  1  2  0  0  0  7  0]\n",
      " [ 1  1  3  1  0  5  1  0  1  4]]\n",
      "Accuracy :\n",
      " 0.3505747126436782\n"
     ]
    }
   ],
   "source": [
    "##Extracting all spotify features as a matrix\n",
    "X = music.iloc[:, 7:15].values\n",
    "\n",
    "## Extracting Genres\n",
    "y = music['Genre']\n",
    "\n",
    "# split into training data (80%) and test data (20%)\n",
    "X_train, X_test, y_train, y_test = train_test_split(X, y, test_size=0.2, random_state=0)\n",
    "\n",
    "# Standardize\n",
    "scaler = StandardScaler()\n",
    "scaler.fit(X_train)\n",
    "X_train_standardized = scaler.transform(X_train)\n",
    "X_test_standardized = scaler.transform(X_test)\n",
    "\n",
    "# train SVM\n",
    "svm = SVC(kernel='linear', C=1.0, random_state=0)\n",
    "svm.fit(X_train,y_train)\n",
    "y_predicted = svm.predict(X_test)\n",
    "# Confusion Matrix\n",
    "print(\"Confusion Matrix:\\n\", confusion_matrix(y_true=y_test, y_pred=y_predicted))\n",
    "## \n",
    "print(\"Accuracy :\\n\", accuracy_score(y_true=y_test, y_pred=y_predicted))\n"
   ]
  }
 ],
 "metadata": {
  "interpreter": {
   "hash": "d6ab9c43d0ffc6a876efc8f7abb63dfedf6720c760e248878e2dbeb06a287133"
  },
  "kernelspec": {
   "display_name": "Python 3.10.2 64-bit",
   "language": "python",
   "name": "python3"
  },
  "language_info": {
   "codemirror_mode": {
    "name": "ipython",
    "version": 3
   },
   "file_extension": ".py",
   "mimetype": "text/x-python",
   "name": "python",
   "nbconvert_exporter": "python",
   "pygments_lexer": "ipython3",
   "version": "3.10.2"
  },
  "orig_nbformat": 4
 },
 "nbformat": 4,
 "nbformat_minor": 2
}
