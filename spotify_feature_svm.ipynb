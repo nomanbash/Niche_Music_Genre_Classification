{
  "nbformat": 4,
  "nbformat_minor": 0,
  "metadata": {
    "colab": {
      "name": "SVM Basic.ipynb",
      "provenance": []
    },
    "kernelspec": {
      "name": "python3",
      "display_name": "Python 3"
    },
    "language_info": {
      "name": "python"
    }
  },
  "cells": [
    {
      "cell_type": "markdown",
      "source": [
        "# Support Vector Machine Model on Spotify Features\n",
        "\n",
        "## Introduction\n",
        "\n",
        "In this notebook, we will use the pre-extracted features from Spotify to train our model. We will try to predict the genre using just these features as the Spotify algorithm uses them to recommend music to listeners. We are going to use 10 genres and approximately 400 songs per genre in order to train the model.\n",
        "\n",
        "The first step is importing the libraries required for this endeavour."
      ],
      "metadata": {
        "id": "1WMpXtkj6umG"
      }
    },
    {
      "cell_type": "code",
      "execution_count": 52,
      "metadata": {
        "id": "Pnv9SME0t_6-"
      },
      "outputs": [],
      "source": [
        "import pandas as pd\n",
        "import numpy as np\n",
        "from sklearn.model_selection import train_test_split\n",
        "from sklearn.preprocessing import StandardScaler\n",
        "from sklearn.svm import SVC\n",
        "from sklearn.metrics import confusion_matrix, precision_score, recall_score, f1_score,accuracy_score\n",
        "from sklearn.model_selection import GridSearchCV\n",
        "from sklearn.utils import resample\n",
        "import seaborn as sns"
      ]
    },
    {
      "cell_type": "markdown",
      "source": [
        "## Loading the Dataset\n",
        "\n",
        "We have already pinged the Spotify API to download the relevant songs from the artists and created a csv file called `subsampled` which we will load here. We will also look at the counts of the relevant genres to see if further balancing is required.\n",
        "\n"
      ],
      "metadata": {
        "id": "acFgd24p7Rr6"
      }
    },
    {
      "cell_type": "code",
      "source": [
        "music = pd.read_csv(\"subsampled.csv\")\n",
        "music['Genre'].value_counts()"
      ],
      "metadata": {
        "colab": {
          "base_uri": "https://localhost:8080/"
        },
        "id": "f-3GyMrZuLn6",
        "outputId": "a4065d54-650e-418c-af74-59ba6d3b8b43"
      },
      "execution_count": 53,
      "outputs": [
        {
          "output_type": "execute_result",
          "data": {
            "text/plain": [
              "Classical    548\n",
              "Pop          492\n",
              "Rap          468\n",
              "Blues        441\n",
              "Rock         422\n",
              "Hip-Hop      420\n",
              "Qawwali      291\n",
              "Ghazal       159\n",
              "EDM          144\n",
              "Metal        113\n",
              "Name: Genre, dtype: int64"
            ]
          },
          "metadata": {},
          "execution_count": 53
        }
      ]
    },
    {
      "cell_type": "markdown",
      "source": [
        "## Balancing the dataset through stratification\n",
        "\n",
        "Unfortunately, there aren't enough files for EDM, Ghazal, Metal and Qawwali. Since some tracks did not have a Preview URL because of location and other restrictions, they could not be downloaded and their features could not be extracted. Thus, they were excluded from the dataset.Thus, the sample set of these genres has been reduced dramatically. In order to overcome this limitation, we will use stratification i.e. we will stratify by class as the future dataset on which this prediction will be made has the same distribution"
      ],
      "metadata": {
        "id": "u0WoWlRd3Lcr"
      }
    },
    {
      "cell_type": "code",
      "source": [
        "X = music.iloc[:,7:-1].values\n",
        "\n",
        "## Extracting Genres\n",
        "y = music['Genre']\n",
        "\n",
        "# split into training data (80%) and test data (20%)\n",
        "X_train, X_test, y_train, y_test = train_test_split(X, y, test_size=0.1, stratify = y, shuffle = True, random_state=0)"
      ],
      "metadata": {
        "id": "VV4CBnMVuPxP"
      },
      "execution_count": 55,
      "outputs": []
    },
    {
      "cell_type": "markdown",
      "source": [
        "Now that we've stratified and split the dataset, we can get to training the model. In the first step, we will train the model without any hyperparameter tuning using the default parameters for `SVC` i.e. `Kernel` = `RBF` and `C` = 1. Then, we will test the accuracy to see if this model, without any tuning is good at predicting the genres based on Spotify's features"
      ],
      "metadata": {
        "id": "S9zdMeZz8QZR"
      }
    },
    {
      "cell_type": "code",
      "source": [
        "# Standardize\n",
        "scaler = StandardScaler()\n",
        "X_train_standardized = scaler.fit_transform(X_train)\n",
        "X_test_standardized = scaler.transform(X_test)\n",
        "\n",
        "#create parameter grid for tuning\n",
        "svm = SVC(kernel = 'rbf', C=1, random_state = 0)\n",
        "svm.fit(X_train_standardized,y_train)\n",
        "y_predicted = svm.predict(X_test_standardized)\n",
        "## \n",
        "print(\"Accuracy :\\n\", accuracy_score(y_true=y_test, y_pred=y_predicted))"
      ],
      "metadata": {
        "colab": {
          "base_uri": "https://localhost:8080/"
        },
        "id": "ngSZnPXxMYWW",
        "outputId": "f3219d03-8546-48aa-8fa9-cc9f1e3679ed"
      },
      "execution_count": 57,
      "outputs": [
        {
          "output_type": "stream",
          "name": "stdout",
          "text": [
            "Accuracy :\n",
            " 0.46\n"
          ]
        }
      ]
    },
    {
      "cell_type": "markdown",
      "source": [
        "The accuracy of the model is only 46%. It seems that there are some limitations with using just spotify features to predict a track's genre. We will now try hyperparameter tuning to see if the accuracy is improved in any way. In order to do so, we will consider multiple values for `C`, `gamma` and will also let the tuning determine the `kernel` to be used in the final model. After the tuning is done, we will use the best parameters to estimate the result once again."
      ],
      "metadata": {
        "id": "kvqH9SJp8pl6"
      }
    },
    {
      "cell_type": "code",
      "source": [
        "param_grid = { 'C':[0.1,1,100],'kernel':['rbf','sigmoid','linear'],'gamma': [1, 0.1, 0.01]}\n",
        "grid = GridSearchCV(SVC(), param_grid, refit = True, verbose = 3, n_jobs= -1)\n",
        "\n",
        "# train SVM\n",
        "grid_model_result = grid.fit(X_train_standardized, y_train)\n",
        "\n",
        "#extracting best parameters\n",
        "best_params = grid.best_params_"
      ],
      "metadata": {
        "colab": {
          "base_uri": "https://localhost:8080/"
        },
        "id": "4wIARyWG5UIG",
        "outputId": "626dbd11-3300-4bff-a3d0-11d63a9f1439"
      },
      "execution_count": 48,
      "outputs": [
        {
          "output_type": "stream",
          "name": "stdout",
          "text": [
            "Fitting 5 folds for each of 27 candidates, totalling 135 fits\n"
          ]
        }
      ]
    },
    {
      "cell_type": "code",
      "source": [
        "y_predicted = grid_model_result.best_estimator_.predict(X_test_standardized)\n",
        "print(\"Accuracy :\\n\", accuracy_score(y_true=y_test, y_pred=y_predicted))"
      ],
      "metadata": {
        "id": "STp_ffY56kzA",
        "colab": {
          "base_uri": "https://localhost:8080/"
        },
        "outputId": "faa0860b-7347-44c3-ce33-a873f07549e6"
      },
      "execution_count": 58,
      "outputs": [
        {
          "output_type": "stream",
          "name": "stdout",
          "text": [
            "Accuracy :\n",
            " 0.4828571428571429\n"
          ]
        }
      ]
    },
    {
      "cell_type": "code",
      "source": [
        "results = pd.DataFrame(X_test.copy())\n",
        "results.loc[:, 'genre'] = list(y_test)\n",
        "results.loc[:, 'preds'] = y_predicted.copy()\n",
        "results_wrong = results[results['genre'] != results['preds']]\n",
        "results_wrong['genre'].value_counts(normalize=True)"
      ],
      "metadata": {
        "id": "eFvbEnXZ6m_A",
        "colab": {
          "base_uri": "https://localhost:8080/"
        },
        "outputId": "51903acc-c340-4e73-a5a6-b2c77bd31626"
      },
      "execution_count": 59,
      "outputs": [
        {
          "output_type": "execute_result",
          "data": {
            "text/plain": [
              "Hip-Hop      0.198895\n",
              "Pop          0.171271\n",
              "Blues        0.143646\n",
              "Qawwali      0.116022\n",
              "Rap          0.116022\n",
              "Rock         0.066298\n",
              "Ghazal       0.060773\n",
              "EDM          0.055249\n",
              "Metal        0.055249\n",
              "Classical    0.016575\n",
              "Name: genre, dtype: float64"
            ]
          },
          "metadata": {},
          "execution_count": 59
        }
      ]
    },
    {
      "cell_type": "code",
      "source": [
        "sns.countplot( x = results_wrong['genre'])"
      ],
      "metadata": {
        "id": "aWUXaMPA6ndg",
        "colab": {
          "base_uri": "https://localhost:8080/",
          "height": 296
        },
        "outputId": "44660b6b-6dfb-4183-fc2d-56c9229d70e7"
      },
      "execution_count": 60,
      "outputs": [
        {
          "output_type": "execute_result",
          "data": {
            "text/plain": [
              "<matplotlib.axes._subplots.AxesSubplot at 0x7f622acb51d0>"
            ]
          },
          "metadata": {},
          "execution_count": 60
        },
        {
          "output_type": "display_data",
          "data": {
            "text/plain": [
              "<Figure size 432x288 with 1 Axes>"
            ],
            "image/png": "[encoded data removed]"
          },
          "metadata": {
            "needs_background": "light"
          }
        }
      ]
    }
  ]
}