{
  "cells": [
    {
      "cell_type": "code",
      "execution_count": 1,
      "metadata": {
        "id": "4X-hOjTHK3Hu"
      },
      "outputs": [],
      "source": [
        "import os\n",
        "import json\n",
        "import numpy as np\n",
        "import librosa\n",
        "import matplotlib.pyplot as plt\n",
        "from sklearn.model_selection import train_test_split\n",
        "import tensorflow as tf"
      ]
    },
    {
      "cell_type": "code",
      "source": [
        "from google.colab import drive\n",
        "drive.mount('/content/drive')"
      ],
      "metadata": {
        "colab": {
          "base_uri": "https://localhost:8080/"
        },
        "id": "k7ciXWKcLuqh",
        "outputId": "a945f083-cc06-44ee-fb8d-a0e949d68638"
      },
      "execution_count": 2,
      "outputs": [
        {
          "output_type": "stream",
          "name": "stdout",
          "text": [
            "Mounted at /content/drive\n"
          ]
        }
      ]
    },
    {
      "cell_type": "code",
      "execution_count": 3,
      "metadata": {
        "id": "_J3PTI1QK3H4"
      },
      "outputs": [],
      "source": [
        "#Dataset location\n",
        "SOURCE_PATH = 'drive/MyDrive/music/'\n",
        "\n",
        "# Path to labels and processed data file, json format.\n",
        "JSON_PATH = 'drive/MyDrive/data.json'\n",
        "\n",
        "# Sampling rate.\n",
        "sr = 22050\n",
        "\n",
        "# Let's make sure all files have the same amount of samples, pick a duration right under 30 seconds.\n",
        "TOTAL_SAMPLES = 10 * sr\n",
        "\n",
        "# X amount of slices => X times more training examples.\n",
        "NUM_SLICES = 10\n",
        "SAMPLES_PER_SLICE = int(TOTAL_SAMPLES / NUM_SLICES)"
      ]
    },
    {
      "cell_type": "code",
      "execution_count": null,
      "metadata": {
        "id": "gEpmm2jGK3H6"
      },
      "outputs": [],
      "source": [
        "def preprocess_data(source_path, json_path):\n",
        "\n",
        "    # Let's create a dictionary of labels and processed data.\n",
        "    mydict = {\n",
        "        \"labels\": [],\n",
        "        \"mfcc\": []\n",
        "        }\n",
        "\n",
        "    # Let's browse each file, slice it and generate the 13 band mfcc for each slice.\n",
        "    for i, (dirpath, dirnames, filenames) in enumerate(os.walk(source_path)):\n",
        "\n",
        "        for file in filenames:\n",
        "            song, sr = librosa.load(os.path.join(dirpath, file), duration=29)\n",
        "\n",
        "            for s in range(NUM_SLICES):\n",
        "                start_sample = SAMPLES_PER_SLICE * s\n",
        "                end_sample = start_sample + SAMPLES_PER_SLICE\n",
        "                mfcc = librosa.feature.mfcc(y=song[start_sample:end_sample], sr=sr, n_mfcc=13)\n",
        "                mfcc = mfcc.T\n",
        "                mydict[\"labels\"].append(i-1)\n",
        "                mydict[\"mfcc\"].append(mfcc.tolist())\n",
        "\n",
        "    # Let's write the dictionary in a json file.    \n",
        "    with open(json_path, 'w') as f:\n",
        "        json.dump(mydict, f)\n",
        "    f.close()"
      ]
    },
    {
      "cell_type": "code",
      "execution_count": 4,
      "metadata": {
        "id": "v2QlnY2kK3H8"
      },
      "outputs": [],
      "source": [
        "def load_data(json_path):\n",
        "\n",
        "    with open(json_path, 'r') as f:\n",
        "        data = json.load(f)\n",
        "    f.close()\n",
        "\n",
        "    # Let's load our data into numpy arrays for TensorFlow compatibility.\n",
        "    X = np.array(data[\"mfcc\"])\n",
        "    y = np.array(data[\"labels\"])\n",
        "    print(X.shape)\n",
        "\n",
        "    return X, y"
      ]
    },
    {
      "cell_type": "code",
      "execution_count": 5,
      "metadata": {
        "id": "urf64SAkK3H9"
      },
      "outputs": [],
      "source": [
        "def prepare_datasets(inputs, targets, split_size):\n",
        "    \n",
        "    # Creating a validation set and a test set.\n",
        "    inputs_train, inputs_val, targets_train, targets_val = train_test_split(inputs, targets, test_size=split_size)\n",
        "    inputs_train, inputs_test, targets_train, targets_test = train_test_split(inputs_train, targets_train, test_size=split_size)\n",
        "    \n",
        "    # Our CNN model expects 3D input shape.\n",
        "    inputs_train = inputs_train[..., np.newaxis]\n",
        "    inputs_val = inputs_val[..., np.newaxis]\n",
        "    inputs_test = inputs_test[..., np.newaxis]\n",
        "    \n",
        "    return inputs_train, inputs_val, inputs_test, targets_train, targets_val, targets_test"
      ]
    },
    {
      "cell_type": "code",
      "execution_count": 6,
      "metadata": {
        "id": "4e17-s52K3H-"
      },
      "outputs": [],
      "source": [
        "def design_model(input_shape):\n",
        "    with tf.device('/device:GPU:0'):\n",
        "    # Let's design the model architecture.\n",
        "      model = tf.keras.models.Sequential([\n",
        "          \n",
        "          tf.keras.layers.Conv2D(32, (3,3), activation='relu', input_shape=input_shape),\n",
        "          tf.keras.layers.MaxPooling2D((3,3), strides=(2,2), padding='same'),\n",
        "          tf.keras.layers.BatchNormalization(),\n",
        "          \n",
        "          tf.keras.layers.Conv2D(32, (3,3), activation='relu'),\n",
        "          tf.keras.layers.MaxPooling2D((3,3), strides=(2,2), padding='same'),\n",
        "          tf.keras.layers.BatchNormalization(),\n",
        "          \n",
        "          tf.keras.layers.Conv2D(32, (2,2), activation='relu'),\n",
        "          tf.keras.layers.MaxPooling2D((3,3), strides=(2,2), padding='same'),\n",
        "          tf.keras.layers.BatchNormalization(),\n",
        "          tf.keras.layers.Dropout(0.3),\n",
        "          \n",
        "          tf.keras.layers.Flatten(),\n",
        "          tf.keras.layers.Dense(64, activation='relu'), \n",
        "          tf.keras.layers.Dense(len(np.unique(targets)), activation='softmax')\n",
        "      ])\n",
        "\n",
        "    return model"
      ]
    },
    {
      "cell_type": "code",
      "execution_count": 7,
      "metadata": {
        "id": "Gze8zJUJK3IA"
      },
      "outputs": [],
      "source": [
        "def make_prediction(model, X, y, idx):\n",
        "    \n",
        "    genre_dict = {\n",
        "        0 : \"Blues\",\n",
        "        1 : \"Classical\",\n",
        "        2 : \"EDM\",\n",
        "        3 : \"Ghazal\",\n",
        "        4 : \"Hip-Hop\",\n",
        "        5 : \"Metal\",\n",
        "        6 : \"Pop\",\n",
        "        7 : \"Qawwali\",\n",
        "        8 : \"Rap\",\n",
        "        9 : \"Rock\",\n",
        "        }\n",
        "        \n",
        "    predictions = model.predict(X)\n",
        "    genre = np.argmax(predictions[idx])\n",
        "    \n",
        "    print(\"\\n---Now testing the model for one audio file---\\nThe model predicts: {}, and ground truth is: {}.\\n\".format(genre_dict[genre], genre_dict[y[idx]]))"
      ]
    },
    {
      "cell_type": "code",
      "execution_count": 8,
      "metadata": {
        "id": "kPwQ9htBK3IC"
      },
      "outputs": [],
      "source": [
        "def plot_performance(hist):\n",
        "    \n",
        "    acc = hist.history['acc']\n",
        "    val_acc = hist.history['val_acc']\n",
        "    loss = hist.history['loss']\n",
        "    val_loss = hist.history['val_loss']\n",
        "\n",
        "    epochs = range(len(acc))\n",
        "\n",
        "    plt.plot(epochs, acc, 'r', label='Training accuracy')\n",
        "    plt.plot(epochs, val_acc, 'b', label='Validation accuracy')\n",
        "    plt.title('Training and validation accuracy')\n",
        "    plt.legend()\n",
        "    plt.figure()\n",
        "\n",
        "    plt.plot(epochs, loss, 'r', label='Training Loss')\n",
        "    plt.plot(epochs, val_loss, 'b', label='Validation Loss')\n",
        "    plt.title('Training and validation loss')\n",
        "    plt.legend()\n",
        "\n",
        "    plt.show()"
      ]
    },
    {
      "cell_type": "code",
      "source": [
        "preprocess_data(source_path=SOURCE_PATH, json_path=JSON_PATH)"
      ],
      "metadata": {
        "id": "_zKiXrvZoh3_"
      },
      "execution_count": null,
      "outputs": []
    },
    {
      "cell_type": "code",
      "execution_count": 9,
      "metadata": {
        "colab": {
          "base_uri": "https://localhost:8080/",
          "height": 1000
        },
        "id": "5S2CXtcOK3ID",
        "outputId": "6c182cbc-2011-4b25-e969-a0f84d764b2d"
      },
      "outputs": [
        {
          "output_type": "stream",
          "name": "stdout",
          "text": [
            "(38140, 44, 13)\n",
            "Model: \"sequential\"\n",
            "_________________________________________________________________\n",
            " Layer (type)                Output Shape              Param #   \n",
            "=================================================================\n",
            " conv2d (Conv2D)             (None, 42, 11, 32)        320       \n",
            "                                                                 \n",
            " max_pooling2d (MaxPooling2D  (None, 21, 6, 32)        0         \n",
            " )                                                               \n",
            "                                                                 \n",
            " batch_normalization (BatchN  (None, 21, 6, 32)        128       \n",
            " ormalization)                                                   \n",
            "                                                                 \n",
            " conv2d_1 (Conv2D)           (None, 19, 4, 32)         9248      \n",
            "                                                                 \n",
            " max_pooling2d_1 (MaxPooling  (None, 10, 2, 32)        0         \n",
            " 2D)                                                             \n",
            "                                                                 \n",
            " batch_normalization_1 (Batc  (None, 10, 2, 32)        128       \n",
            " hNormalization)                                                 \n",
            "                                                                 \n",
            " conv2d_2 (Conv2D)           (None, 9, 1, 32)          4128      \n",
            "                                                                 \n",
            " max_pooling2d_2 (MaxPooling  (None, 5, 1, 32)         0         \n",
            " 2D)                                                             \n",
            "                                                                 \n",
            " batch_normalization_2 (Batc  (None, 5, 1, 32)         128       \n",
            " hNormalization)                                                 \n",
            "                                                                 \n",
            " dropout (Dropout)           (None, 5, 1, 32)          0         \n",
            "                                                                 \n",
            " flatten (Flatten)           (None, 160)               0         \n",
            "                                                                 \n",
            " dense (Dense)               (None, 64)                10304     \n",
            "                                                                 \n",
            " dense_1 (Dense)             (None, 10)                650       \n",
            "                                                                 \n",
            "=================================================================\n",
            "Total params: 25,034\n",
            "Trainable params: 24,842\n",
            "Non-trainable params: 192\n",
            "_________________________________________________________________\n"
          ]
        },
        {
          "output_type": "stream",
          "name": "stderr",
          "text": [
            "/usr/local/lib/python3.7/dist-packages/keras/optimizer_v2/rmsprop.py:130: UserWarning: The `lr` argument is deprecated, use `learning_rate` instead.\n",
            "  super(RMSprop, self).__init__(name, **kwargs)\n"
          ]
        },
        {
          "output_type": "stream",
          "name": "stdout",
          "text": [
            "Epoch 1/30\n",
            "Epoch 2/30\n",
            "Epoch 3/30\n",
            "Epoch 4/30\n",
            "Epoch 5/30\n",
            "Epoch 6/30\n",
            "Epoch 7/30\n",
            "Epoch 8/30\n",
            "Epoch 9/30\n",
            "Epoch 10/30\n",
            "Epoch 11/30\n",
            "Epoch 12/30\n",
            "Epoch 13/30\n",
            "Epoch 14/30\n",
            "Epoch 15/30\n",
            "Epoch 16/30\n",
            "Epoch 17/30\n",
            "Epoch 18/30\n",
            "Epoch 19/30\n",
            "Epoch 20/30\n",
            "Epoch 21/30\n",
            "Epoch 22/30\n",
            "Epoch 23/30\n",
            "Epoch 24/30\n",
            "Epoch 25/30\n",
            "Epoch 26/30\n",
            "Epoch 27/30\n",
            "Epoch 28/30\n",
            "Epoch 29/30\n",
            "Epoch 30/30\n"
          ]
        },
        {
          "output_type": "display_data",
          "data": {
            "text/plain": [
              "<Figure size 432x288 with 1 Axes>"
            ],
            "image/png": "[encoded data removed]"
          },
          "metadata": {
            "needs_background": "light"
          }
        },
        {
          "output_type": "display_data",
          "data": {
            "text/plain": [
              "<Figure size 432x288 with 1 Axes>"
            ],
            "image/png": "[encoded data removed]"
          },
          "metadata": {
            "needs_background": "light"
          }
        }
      ],
      "source": [
        "inputs, targets = load_data(json_path=JSON_PATH)\n",
        "        \n",
        "Xtrain, Xval, Xtest, ytrain, yval, ytest = prepare_datasets(inputs, targets, 0.2)\n",
        "\n",
        "input_shape = (Xtrain.shape[1], Xtrain.shape[2], 1)\n",
        "model = design_model(input_shape)\n",
        "\n",
        "model.compile(optimizer = tf.keras.optimizers.RMSprop(lr=0.001),\n",
        "              loss='sparse_categorical_crossentropy',\n",
        "              metrics = ['acc']\n",
        "                    )\n",
        "    \n",
        "model.summary()   \n",
        "\n",
        "# Training the model.\n",
        "history = model.fit(Xtrain, ytrain,\n",
        "                    validation_data=(Xval, yval),\n",
        "                    epochs=30,\n",
        "                    batch_size=32,\n",
        "                    verbose = 5 \n",
        "                    )\n",
        "\n",
        "plot_performance(history)"
      ]
    },
    {
      "cell_type": "code",
      "source": [
        "make_prediction(model, Xtest, ytest, 24)"
      ],
      "metadata": {
        "id": "mF8GwcjUOqQC",
        "colab": {
          "base_uri": "https://localhost:8080/"
        },
        "outputId": "2f889930-d798-47c6-b8d3-6aa8bc56bd72"
      },
      "execution_count": null,
      "outputs": [
        {
          "output_type": "stream",
          "name": "stdout",
          "text": [
            "\n",
            "---Now testing the model for one audio file---\n",
            "The model predicts: Hip-Hop, and ground truth is: Blues.\n",
            "\n"
          ]
        }
      ]
    },
    {
      "cell_type": "code",
      "source": [
        "test_loss, test_acc = model.evaluate(Xtest,  ytest, verbose=2)\n",
        "print('Test accuracy:', test_acc)"
      ],
      "metadata": {
        "colab": {
          "base_uri": "https://localhost:8080/"
        },
        "id": "fGUyigG09mBt",
        "outputId": "423ed879-aa6a-46cc-f10f-f486b23472c6"
      },
      "execution_count": 11,
      "outputs": [
        {
          "output_type": "stream",
          "name": "stdout",
          "text": [
            "191/191 - 1s - loss: 1.0180 - acc: 0.5832 - 814ms/epoch - 4ms/step\n",
            "Test accuracy: 0.5831558108329773\n"
          ]
        }
      ]
    }
  ],
  "metadata": {
    "interpreter": {
      "hash": "d6ab9c43d0ffc6a876efc8f7abb63dfedf6720c760e248878e2dbeb06a287133"
    },
    "kernelspec": {
      "display_name": "Python 3.10.2 64-bit",
      "language": "python",
      "name": "python3"
    },
    "language_info": {
      "codemirror_mode": {
        "name": "ipython",
        "version": 3
      },
      "file_extension": ".py",
      "mimetype": "text/x-python",
      "name": "python",
      "nbconvert_exporter": "python",
      "pygments_lexer": "ipython3",
      "version": "3.10.2"
    },
    "orig_nbformat": 4,
    "colab": {
      "name": "CNN Prediction Using Spectograms.ipynb",
      "provenance": [],
      "collapsed_sections": []
    },
    "accelerator": "GPU"
  },
  "nbformat": 4,
  "nbformat_minor": 0
}